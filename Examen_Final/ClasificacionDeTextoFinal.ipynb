{
  "cells": [
    {
      "cell_type": "code",
      "execution_count": 1,
      "metadata": {
        "colab": {
          "base_uri": "https://localhost:8080/"
        },
        "id": "QCqkcfczupF1",
        "outputId": "aa4e5e1f-b077-4b6e-e87b-f3846ed00f95"
      },
      "outputs": [
        {
          "output_type": "stream",
          "name": "stdout",
          "text": [
            "Mounted at /content/drive\n"
          ]
        }
      ],
      "source": [
        "# Cargar Drive\n",
        "from google.colab import drive\n",
        "drive.mount('/content/drive')"
      ]
    },
    {
      "cell_type": "code",
      "execution_count": 2,
      "metadata": {
        "colab": {
          "base_uri": "https://localhost:8080/"
        },
        "id": "d-Oa24sxuvJZ",
        "outputId": "4b35c7f4-e6cd-4fba-d810-fc3037708e89"
      },
      "outputs": [
        {
          "output_type": "stream",
          "name": "stdout",
          "text": [
            "Requirement already satisfied: torch in /usr/local/lib/python3.10/dist-packages (2.1.0+cu118)\n",
            "Requirement already satisfied: torchtext in /usr/local/lib/python3.10/dist-packages (0.16.0)\n",
            "Requirement already satisfied: transformers in /usr/local/lib/python3.10/dist-packages (4.35.2)\n",
            "Requirement already satisfied: filelock in /usr/local/lib/python3.10/dist-packages (from torch) (3.13.1)\n",
            "Requirement already satisfied: typing-extensions in /usr/local/lib/python3.10/dist-packages (from torch) (4.5.0)\n",
            "Requirement already satisfied: sympy in /usr/local/lib/python3.10/dist-packages (from torch) (1.12)\n",
            "Requirement already satisfied: networkx in /usr/local/lib/python3.10/dist-packages (from torch) (3.2.1)\n",
            "Requirement already satisfied: jinja2 in /usr/local/lib/python3.10/dist-packages (from torch) (3.1.2)\n",
            "Requirement already satisfied: fsspec in /usr/local/lib/python3.10/dist-packages (from torch) (2023.6.0)\n",
            "Requirement already satisfied: triton==2.1.0 in /usr/local/lib/python3.10/dist-packages (from torch) (2.1.0)\n",
            "Requirement already satisfied: tqdm in /usr/local/lib/python3.10/dist-packages (from torchtext) (4.66.1)\n",
            "Requirement already satisfied: requests in /usr/local/lib/python3.10/dist-packages (from torchtext) (2.31.0)\n",
            "Requirement already satisfied: numpy in /usr/local/lib/python3.10/dist-packages (from torchtext) (1.23.5)\n",
            "Requirement already satisfied: torchdata==0.7.0 in /usr/local/lib/python3.10/dist-packages (from torchtext) (0.7.0)\n",
            "Requirement already satisfied: urllib3>=1.25 in /usr/local/lib/python3.10/dist-packages (from torchdata==0.7.0->torchtext) (2.0.7)\n",
            "Requirement already satisfied: huggingface-hub<1.0,>=0.16.4 in /usr/local/lib/python3.10/dist-packages (from transformers) (0.19.4)\n",
            "Requirement already satisfied: packaging>=20.0 in /usr/local/lib/python3.10/dist-packages (from transformers) (23.2)\n",
            "Requirement already satisfied: pyyaml>=5.1 in /usr/local/lib/python3.10/dist-packages (from transformers) (6.0.1)\n",
            "Requirement already satisfied: regex!=2019.12.17 in /usr/local/lib/python3.10/dist-packages (from transformers) (2023.6.3)\n",
            "Requirement already satisfied: tokenizers<0.19,>=0.14 in /usr/local/lib/python3.10/dist-packages (from transformers) (0.15.0)\n",
            "Requirement already satisfied: safetensors>=0.3.1 in /usr/local/lib/python3.10/dist-packages (from transformers) (0.4.0)\n",
            "Requirement already satisfied: MarkupSafe>=2.0 in /usr/local/lib/python3.10/dist-packages (from jinja2->torch) (2.1.3)\n",
            "Requirement already satisfied: charset-normalizer<4,>=2 in /usr/local/lib/python3.10/dist-packages (from requests->torchtext) (3.3.2)\n",
            "Requirement already satisfied: idna<4,>=2.5 in /usr/local/lib/python3.10/dist-packages (from requests->torchtext) (3.4)\n",
            "Requirement already satisfied: certifi>=2017.4.17 in /usr/local/lib/python3.10/dist-packages (from requests->torchtext) (2023.7.22)\n",
            "Requirement already satisfied: mpmath>=0.19 in /usr/local/lib/python3.10/dist-packages (from sympy->torch) (1.3.0)\n"
          ]
        }
      ],
      "source": [
        "!pip install torch torchtext transformers\n"
      ]
    },
    {
      "cell_type": "code",
      "source": [
        "import torch\n",
        "from torch import nn\n",
        "import pandas as pd\n",
        "from transformers import DistilBertTokenizer, DistilBertModel\n",
        "from sklearn.model_selection import train_test_split\n",
        "from torch.utils.data import DataLoader\n",
        "import os"
      ],
      "metadata": {
        "id": "kKCSc6mzeqJz"
      },
      "execution_count": 3,
      "outputs": []
    },
    {
      "cell_type": "code",
      "execution_count": 4,
      "metadata": {
        "id": "WSpK7MzSysYA"
      },
      "outputs": [],
      "source": [
        "\n",
        "class TextClassifier(nn.Module):\n",
        "    def __init__(self, num_classes, pretrained_model_name='distilbert-base-uncased'):\n",
        "        super(TextClassifier, self).__init__()\n",
        "        self.tokenizer = DistilBertTokenizer.from_pretrained(pretrained_model_name)\n",
        "        self.bert = DistilBertModel.from_pretrained(pretrained_model_name)\n",
        "        self.fc = nn.Linear(self.bert.config.hidden_size, num_classes)\n",
        "\n",
        "    def forward(self, input_ids, attention_mask=None):\n",
        "        output = self.bert(input_ids, attention_mask=attention_mask)[0][:, 0, :]  # extract the [CLS] token representation\n",
        "        logits = self.fc(output)\n",
        "        return logits\n"
      ]
    },
    {
      "cell_type": "code",
      "execution_count": 5,
      "metadata": {
        "id": "dl_wKHTfyx2c"
      },
      "outputs": [],
      "source": [
        "import torch\n",
        "from torch.utils.data import Dataset  # Añadir esta línea para importar la clase Dataset\n",
        "\n",
        "class CustomDataset(Dataset):\n",
        "    def __init__(self, dataframe, tokenizer, max_length=128):\n",
        "        self.data = dataframe\n",
        "        self.tokenizer = tokenizer\n",
        "        self.max_length = max_length\n",
        "\n",
        "    def __len__(self):\n",
        "        return len(self.data)\n",
        "\n",
        "    def __getitem__(self, idx):\n",
        "        text = self.data.iloc[idx]['texto']\n",
        "        label = self.data.iloc[idx]['carrera']\n",
        "        encoding = self.tokenizer(text, truncation=True, padding='max_length', max_length=self.max_length, return_tensors='pt', return_attention_mask=True)\n",
        "        return {'input_ids': encoding['input_ids'].squeeze(), 'attention_mask': encoding['attention_mask'].squeeze(), 'label': torch.tensor(label)}\n"
      ]
    },
    {
      "cell_type": "code",
      "execution_count": 6,
      "metadata": {
        "id": "f9JfYdV3y0BH"
      },
      "outputs": [],
      "source": [
        "# Cargar tu conjunto de datos desde el archivo CSV\n",
        "dataset_path = './drive/MyDrive/SIS421/ClasificacionTexto/datos_carreras_3.csv'\n",
        "df = pd.read_csv(dataset_path)"
      ]
    },
    {
      "cell_type": "code",
      "execution_count": 7,
      "metadata": {
        "id": "4gC3T5Zwy9On"
      },
      "outputs": [],
      "source": [
        "# Dividir el conjunto de datos en entrenamiento y prueba\n",
        "train_df, test_df = train_test_split(df, test_size=0.2, random_state=42)"
      ]
    },
    {
      "cell_type": "code",
      "execution_count": 8,
      "metadata": {
        "id": "tj6KrAQpy-KP",
        "colab": {
          "base_uri": "https://localhost:8080/",
          "height": 177,
          "referenced_widgets": [
            "9cc42fdc77724aa295dddac6a1221a03",
            "958c4caa3a0b428890c6d68a48bc98bb",
            "546068531bea4f8c8554a5670546cafd",
            "de4b5e783881427583cddc8b09486b49",
            "02c8cd29974c4f2788cd50a6fcc1a784",
            "bbf10ee5075249938dc1809a3ee094c0",
            "23e72e7e5ded40868b836ccfc31f8b29",
            "1892b03312354806ba286f6370618eca",
            "c942a64d9ab545849a4a4a14e11be2b8",
            "14844f85c111486f9514a97dfe03fbfe",
            "ea047ec3285d490889bcd3ae502b0415",
            "ba2437f1bdb24cfa8277ce617d34c526",
            "344f324a0d04472683a434d2008a5cad",
            "ded8e254f80447d6a976057236e87eb4",
            "604253d1e2d743d8982f29e5de9a046a",
            "739649b2575a40be96cbe744f1b5dbc8",
            "d7e87c7ed2014eeba0f3c89430f019cd",
            "feb1da8af27f4d9780b79fff992b99b2",
            "b72bbc7fd7ab4423aa484c7bdec624a6",
            "64a0047f3bbc45f984a5bd19e206d3c3",
            "e6a55386c99c467d805d3b3b4f793c90",
            "42983093552b4a99a22a8f7f7c705570",
            "8119724fa73a46749403f905a51699cf",
            "e1eecef3f4294ab590ae1e9e083dfaa6",
            "5e2d82c3c43240b195bba1674aebc0e6",
            "5f33d084e7954b389d5bd116eb81ab0c",
            "d1b245dc18cf4bdb96320e62ab5f10f9",
            "4e5a1c404c2e40679b89c86625786deb",
            "19ba5ac816834b00af49635fce031792",
            "03dce99bd0a2447fae6fe82fccb33ac9",
            "f3d9db7b91a540618dbdf0739d74fd69",
            "b0f5723cb1024a258b53659e2112952c",
            "20b045f20fdc44998e0a8e93c94a8e69",
            "6a25b45b71f64ba69467a99802f43b6a",
            "393ff204abf44c969f3724994cea9daa",
            "a34bc2eb9f1342d38ba52fd84984d534",
            "88b169d33923402786bcad39bd1d3c60",
            "0b1049dfb44b487195b8a2744dab7433",
            "9763830a552541edaf5ba249ba712a18",
            "c149cc1e342e4e8dac7830cd18b85c16",
            "8dd4a9fb30ab4ace8967777cdb325581",
            "6e7b8922a11a46beac60478d94404f13",
            "63c974e2ae0d47d9949bd3c54a9230e3",
            "96f1e3a86b5a452d9e563f2c28824b8a",
            "84436165b40140be8d153aef336f8810",
            "aa0ca7ced4614e97be253d1e30eea075",
            "183f1740da914e5891097ba488448281",
            "ec4bad11106e4c2da4a400d6229be6d6",
            "0353804465f444b9b4ceac11055a1977",
            "e1546b1c18144a68bcf495a02fefac24",
            "408e0bb60023499ca3bab5b1ae7312af",
            "b60c605416d04757b68c4955dee2ba26",
            "ca9931370d6a4fab9660dabb1e7278dd",
            "9a90911b70ef4ad197ff1e3451470060",
            "3cdc41b2db974ec99223b4ffa0bfa8e6"
          ]
        },
        "outputId": "3b102399-c354-4859-c09b-d17e46a5afea"
      },
      "outputs": [
        {
          "output_type": "display_data",
          "data": {
            "text/plain": [
              "tokenizer_config.json:   0%|          | 0.00/28.0 [00:00<?, ?B/s]"
            ],
            "application/vnd.jupyter.widget-view+json": {
              "version_major": 2,
              "version_minor": 0,
              "model_id": "9cc42fdc77724aa295dddac6a1221a03"
            }
          },
          "metadata": {}
        },
        {
          "output_type": "display_data",
          "data": {
            "text/plain": [
              "vocab.txt:   0%|          | 0.00/232k [00:00<?, ?B/s]"
            ],
            "application/vnd.jupyter.widget-view+json": {
              "version_major": 2,
              "version_minor": 0,
              "model_id": "ba2437f1bdb24cfa8277ce617d34c526"
            }
          },
          "metadata": {}
        },
        {
          "output_type": "display_data",
          "data": {
            "text/plain": [
              "tokenizer.json:   0%|          | 0.00/466k [00:00<?, ?B/s]"
            ],
            "application/vnd.jupyter.widget-view+json": {
              "version_major": 2,
              "version_minor": 0,
              "model_id": "8119724fa73a46749403f905a51699cf"
            }
          },
          "metadata": {}
        },
        {
          "output_type": "display_data",
          "data": {
            "text/plain": [
              "config.json:   0%|          | 0.00/483 [00:00<?, ?B/s]"
            ],
            "application/vnd.jupyter.widget-view+json": {
              "version_major": 2,
              "version_minor": 0,
              "model_id": "6a25b45b71f64ba69467a99802f43b6a"
            }
          },
          "metadata": {}
        },
        {
          "output_type": "display_data",
          "data": {
            "text/plain": [
              "model.safetensors:   0%|          | 0.00/268M [00:00<?, ?B/s]"
            ],
            "application/vnd.jupyter.widget-view+json": {
              "version_major": 2,
              "version_minor": 0,
              "model_id": "84436165b40140be8d153aef336f8810"
            }
          },
          "metadata": {}
        }
      ],
      "source": [
        "# Inicializar el modelo y el tokenizer\n",
        "num_classes = 4  # Número de clases en tu problema\n",
        "model = TextClassifier(num_classes)\n",
        "tokenizer = model.tokenizer"
      ]
    },
    {
      "cell_type": "code",
      "execution_count": 9,
      "metadata": {
        "id": "928ec5wYzACL"
      },
      "outputs": [],
      "source": [
        "# Crear instancias de CustomDataset\n",
        "train_dataset = CustomDataset(train_df, tokenizer)\n",
        "test_dataset = CustomDataset(test_df, tokenizer)"
      ]
    },
    {
      "cell_type": "code",
      "execution_count": 10,
      "metadata": {
        "id": "RrKIrqK1zDKK"
      },
      "outputs": [],
      "source": [
        "# Crear DataLoaders\n",
        "train_dataloader = DataLoader(train_dataset, batch_size=64, shuffle=True)\n",
        "test_dataloader = DataLoader(test_dataset, batch_size=64, shuffle=False)"
      ]
    },
    {
      "cell_type": "code",
      "execution_count": 11,
      "metadata": {
        "colab": {
          "base_uri": "https://localhost:8080/"
        },
        "id": "rZNsUTLs-u0b",
        "outputId": "2c40d62f-9f03-4e35-84c9-528c7387d781"
      },
      "outputs": [
        {
          "output_type": "stream",
          "name": "stdout",
          "text": [
            "{'input_ids': tensor([[  101,  2474, 15270,  ...,     0,     0,     0],\n",
            "        [  101,  2474,  3188,  ...,     0,     0,     0],\n",
            "        [  101,  2033,  7861,  ...,     0,     0,     0],\n",
            "        ...,\n",
            "        [  101,  2474, 13749,  ...,     0,     0,     0],\n",
            "        [  101,  9033,  6633,  ...,     0,     0,     0],\n",
            "        [  101,  4078,  2906,  ...,     0,     0,     0]]), 'attention_mask': tensor([[1, 1, 1,  ..., 0, 0, 0],\n",
            "        [1, 1, 1,  ..., 0, 0, 0],\n",
            "        [1, 1, 1,  ..., 0, 0, 0],\n",
            "        ...,\n",
            "        [1, 1, 1,  ..., 0, 0, 0],\n",
            "        [1, 1, 1,  ..., 0, 0, 0],\n",
            "        [1, 1, 1,  ..., 0, 0, 0]]), 'label': tensor([2, 0, 0, 0, 2, 2, 3, 3, 2, 1, 2, 1, 2, 3, 2, 1, 0, 0, 2, 1, 3, 0, 1, 3,\n",
            "        0, 1, 2, 3, 0, 3, 0, 0, 2, 3, 3, 1, 0, 0, 0, 1, 1, 2, 2, 0, 1, 2, 0, 1,\n",
            "        2, 0, 0, 1, 0, 3, 2, 2, 1, 1, 3, 3, 1, 1, 0, 3])}\n"
          ]
        }
      ],
      "source": [
        "for batch in train_dataloader:\n",
        "    print(batch)\n",
        "    break  # solo mostramos el primer lote para evitar demasiada salida\n"
      ]
    },
    {
      "cell_type": "code",
      "execution_count": 12,
      "metadata": {
        "id": "7AtlIm1a0JYQ"
      },
      "outputs": [],
      "source": [
        "def train_model(model, train_dataloader, test_dataloader, num_epochs=12, learning_rate=1e-4, save_every=3):\n",
        "    device = torch.device(\"cuda\" if torch.cuda.is_available() else \"cpu\")\n",
        "    model.to(device)\n",
        "    optimizer = torch.optim.AdamW(model.parameters(), lr=learning_rate)\n",
        "    criterion = nn.CrossEntropyLoss()\n",
        "\n",
        "    for epoch in range(num_epochs):\n",
        "        model.train()\n",
        "        for batch in train_dataloader:\n",
        "            input_ids, attention_mask, labels = batch['input_ids'].to(device), batch['attention_mask'].to(device), batch['label'].to(device)\n",
        "            optimizer.zero_grad()\n",
        "            logits = model(input_ids, attention_mask=attention_mask)\n",
        "            loss = criterion(logits, labels)\n",
        "            loss.backward()\n",
        "            optimizer.step()\n",
        "\n",
        "        # Evaluation\n",
        "        model.eval()\n",
        "        correct, total = 0, 0\n",
        "        with torch.no_grad():\n",
        "            for batch in test_dataloader:\n",
        "                input_ids, labels = batch['input_ids'].to(device), batch['label'].to(device)\n",
        "                logits = model(input_ids)\n",
        "                _, predicted = torch.max(logits, 1)\n",
        "                total += labels.size(0)\n",
        "                correct += (predicted == labels).sum().item()\n",
        "\n",
        "        accuracy = correct / total\n",
        "        print(f\"Epoch {epoch + 1}/{num_epochs}, Loss: {loss.item():.4f}, Accuracy: {accuracy:.4f}\")\n",
        "\n",
        "        # Save model every 'save_every' epochs\n",
        "        if (epoch + 1) % save_every == 0:\n",
        "            save_path = f'./drive/MyDrive/SIS421/ClasificacionTexto/model_checkpoint_epoch_{epoch + 1}.pth'\n",
        "            torch.save({\n",
        "                'epoch': epoch + 1,\n",
        "                'model_state_dict': model.state_dict(),\n",
        "                'optimizer_state_dict': optimizer.state_dict(),\n",
        "                'loss': loss.item(),\n",
        "                'accuracy': accuracy\n",
        "            }, save_path)\n",
        "            print(f'Model saved at epoch {epoch + 1}.')\n"
      ]
    },
    {
      "cell_type": "code",
      "source": [
        "# Entrenar el modelo con guardado cada 3 epochs\n",
        "train_model(model, train_dataloader, test_dataloader, num_epochs=30, learning_rate=1e-4, save_every=3)"
      ],
      "metadata": {
        "colab": {
          "base_uri": "https://localhost:8080/"
        },
        "id": "nBrgDJnfoKV5",
        "outputId": "c9c209e6-5860-43ef-f61b-09cd587f166d"
      },
      "execution_count": 13,
      "outputs": [
        {
          "output_type": "stream",
          "name": "stderr",
          "text": [
            "We strongly recommend passing in an `attention_mask` since your input_ids may be padded. See https://huggingface.co/docs/transformers/troubleshooting#incorrect-output-when-padding-tokens-arent-masked.\n"
          ]
        },
        {
          "output_type": "stream",
          "name": "stdout",
          "text": [
            "Epoch 1/30, Loss: 0.7153, Accuracy: 0.7069\n",
            "Epoch 2/30, Loss: 0.3259, Accuracy: 0.7521\n",
            "Epoch 3/30, Loss: 0.3542, Accuracy: 0.7920\n",
            "Model saved at epoch 3.\n",
            "Epoch 4/30, Loss: 0.2002, Accuracy: 0.7868\n",
            "Epoch 5/30, Loss: 0.2486, Accuracy: 0.7962\n",
            "Epoch 6/30, Loss: 0.3829, Accuracy: 0.7752\n",
            "Model saved at epoch 6.\n",
            "Epoch 7/30, Loss: 0.0730, Accuracy: 0.7815\n",
            "Epoch 8/30, Loss: 0.0855, Accuracy: 0.7658\n",
            "Epoch 9/30, Loss: 0.1971, Accuracy: 0.8015\n",
            "Model saved at epoch 9.\n",
            "Epoch 10/30, Loss: 0.1670, Accuracy: 0.8099\n",
            "Epoch 11/30, Loss: 0.1163, Accuracy: 0.8067\n",
            "Epoch 12/30, Loss: 0.0970, Accuracy: 0.8120\n",
            "Model saved at epoch 12.\n",
            "Epoch 13/30, Loss: 0.2000, Accuracy: 0.8120\n",
            "Epoch 14/30, Loss: 0.1018, Accuracy: 0.8109\n",
            "Epoch 15/30, Loss: 0.0592, Accuracy: 0.7111\n",
            "Model saved at epoch 15.\n",
            "Epoch 16/30, Loss: 0.1047, Accuracy: 0.6775\n",
            "Epoch 17/30, Loss: 0.1836, Accuracy: 0.7532\n",
            "Epoch 18/30, Loss: 0.0803, Accuracy: 0.7731\n",
            "Model saved at epoch 18.\n",
            "Epoch 19/30, Loss: 0.1200, Accuracy: 0.7689\n",
            "Epoch 20/30, Loss: 0.0725, Accuracy: 0.7563\n",
            "Epoch 21/30, Loss: 0.1774, Accuracy: 0.8025\n",
            "Model saved at epoch 21.\n",
            "Epoch 22/30, Loss: 0.0831, Accuracy: 0.8015\n",
            "Epoch 23/30, Loss: 0.1126, Accuracy: 0.7794\n",
            "Epoch 24/30, Loss: 0.0643, Accuracy: 0.7700\n",
            "Model saved at epoch 24.\n",
            "Epoch 25/30, Loss: 0.0397, Accuracy: 0.6901\n",
            "Epoch 26/30, Loss: 0.0216, Accuracy: 0.7489\n",
            "Epoch 27/30, Loss: 0.0768, Accuracy: 0.7143\n",
            "Model saved at epoch 27.\n",
            "Epoch 28/30, Loss: 0.0982, Accuracy: 0.7784\n",
            "Epoch 29/30, Loss: 0.0641, Accuracy: 0.7500\n",
            "Epoch 30/30, Loss: 0.1091, Accuracy: 0.7626\n",
            "Model saved at epoch 30.\n"
          ]
        }
      ]
    },
    {
      "cell_type": "code",
      "source": [
        "# Cargar el modelo\n",
        "import torch\n",
        "\n",
        "def load_model(model, optimizer, checkpoint_path):\n",
        "    checkpoint = torch.load(checkpoint_path)\n",
        "    model.load_state_dict(checkpoint['model_state_dict'])\n",
        "    optimizer.load_state_dict(checkpoint['optimizer_state_dict'])\n",
        "    epoch = checkpoint['epoch']\n",
        "    loss = checkpoint['loss']\n",
        "    accuracy = checkpoint['accuracy']\n",
        "    print(f'Model loaded from epoch {epoch}, Loss: {loss:.4f}, Accuracy: {accuracy:.4f}')\n",
        "\n",
        "# Especifica la ruta del archivo del modelo que deseas cargar\n",
        "model_path_to_load = './drive/MyDrive/SIS421/ClasificacionTexto/model_checkpoint_epoch_30.pth'  # Cambia la ruta según sea necesario\n",
        "\n",
        "# Crea una nueva instancia del modelo (asegúrate de que tenga la misma arquitectura que el modelo original)\n",
        "loaded_model = TextClassifier(num_classes)\n",
        "\n",
        "# Crea una nueva instancia del optimizador (asegúrate de que tenga los mismos parámetros que el modelo original)\n",
        "loaded_optimizer = torch.optim.AdamW(loaded_model.parameters(), lr=1e-4)  # Ajusta el learning rate según sea necesario\n",
        "\n",
        "# Carga el modelo y el optimizador desde el archivo\n",
        "load_model(loaded_model, loaded_optimizer, model_path_to_load)"
      ],
      "metadata": {
        "colab": {
          "base_uri": "https://localhost:8080/"
        },
        "id": "FCJIgUEUsZSj",
        "outputId": "0528ca09-ef8d-4cd3-f071-a351518f0a98"
      },
      "execution_count": 23,
      "outputs": [
        {
          "output_type": "stream",
          "name": "stdout",
          "text": [
            "Model loaded from epoch 30, Loss: 0.1091, Accuracy: 0.7626\n"
          ]
        }
      ]
    },
    {
      "cell_type": "code",
      "execution_count": 15,
      "metadata": {
        "id": "OTAbfZ2H-dl7"
      },
      "outputs": [],
      "source": [
        "# Dar etiquetas a los resultados para mejorar la presentacion\n",
        "def label_mapping(label):\n",
        "    mapping = {\n",
        "        0: 'Ing. En Sistemas',\n",
        "        1: 'Ing. En Diseño y Animacion Digital',\n",
        "        2: 'Ing. En Ciencias de la Computación',\n",
        "        3: 'Ing. En Tecnologías de la Información y Seguridad'\n",
        "    }\n",
        "    return mapping[label]"
      ]
    },
    {
      "cell_type": "code",
      "source": [
        "\n",
        "# Función para realizar predicciones con el modelo cargado\n",
        "def predict_with_loaded_model(model, tokenizer, text):\n",
        "    # Tokenizar el texto de entrada\n",
        "    inputs = tokenizer(text, truncation=True, padding='max_length', max_length=model.tokenizer.model_max_length, return_tensors='pt', return_attention_mask=True)\n",
        "\n",
        "    # Obtener predicciones del modelo cargado\n",
        "    with torch.no_grad():\n",
        "        logits = model(inputs['input_ids'], attention_mask=inputs['attention_mask'])\n",
        "\n",
        "    # Obtener la etiqueta predicha\n",
        "    _, predicted_class = torch.max(logits, 1)\n",
        "\n",
        "    return label_mapping(predicted_class.item())\n",
        "\n",
        "# Ejemplo de texto para probar el modelo cargado\n",
        "texto_a_probar_cargado = \"siempre he estado interesado en la seguridad de la informacion y como se resguardan los datos\"\n",
        "\n",
        "# Probar el modelo con el texto de ejemplo\n",
        "predicted_label_cargado = predict_with_loaded_model(loaded_model, tokenizer, texto_a_probar_cargado)\n",
        "\n",
        "# Imprimir la etiqueta predicha de forma legible\n",
        "print(f\"Texto: {texto_a_probar_cargado}\")\n",
        "print(f\"Etiqueta Predicha con modelo cargado: {predicted_label_cargado}\")"
      ],
      "metadata": {
        "colab": {
          "base_uri": "https://localhost:8080/"
        },
        "id": "ppaVqCuRsh1q",
        "outputId": "9cb6f065-a2b1-401e-cbfb-9b5b58ea8086"
      },
      "execution_count": 16,
      "outputs": [
        {
          "output_type": "stream",
          "name": "stdout",
          "text": [
            "Texto: siempre he estado interesado en la seguridad de la informacion y como se resguardan los datos\n",
            "Etiqueta Predicha con modelo cargado: Ing. En Tecnologías de la Información y Seguridad\n"
          ]
        }
      ]
    },
    {
      "cell_type": "code",
      "source": [
        "# Ejemplo de texto para probar el modelo cargado\n",
        "texto_a_probar_cargado = \"siempre he estado interesado en ingenieria social\"\n",
        "\n",
        "# Probar el modelo con el texto de ejemplo\n",
        "predicted_label_cargado = predict_with_loaded_model(loaded_model, tokenizer, texto_a_probar_cargado)\n",
        "\n",
        "# Imprimir la etiqueta predicha de forma legible\n",
        "print(f\"Texto: {texto_a_probar_cargado}\")\n",
        "print(f\"Etiqueta Predicha con modelo cargado: {predicted_label_cargado}\")"
      ],
      "metadata": {
        "colab": {
          "base_uri": "https://localhost:8080/"
        },
        "id": "sfV0hd9Ztrhq",
        "outputId": "4ae915d6-3f5d-4033-d512-74be56a20f41"
      },
      "execution_count": 17,
      "outputs": [
        {
          "output_type": "stream",
          "name": "stdout",
          "text": [
            "Texto: siempre he estado interesado en ingenieria social\n",
            "Etiqueta Predicha con modelo cargado: Ing. En Tecnologías de la Información y Seguridad\n"
          ]
        }
      ]
    },
    {
      "cell_type": "code",
      "source": [
        "# Ejemplo de texto para probar el modelo cargado\n",
        "texto_a_probar_cargado = \"Adoro ver cómo funcionan los sistemas y cómo interactúan entre sí\"\n",
        "\n",
        "# Probar el modelo con el texto de ejemplo\n",
        "predicted_label_cargado = predict_with_loaded_model(loaded_model, tokenizer, texto_a_probar_cargado)\n",
        "\n",
        "# Imprimir la etiqueta predicha de forma legible\n",
        "print(f\"Texto: {texto_a_probar_cargado}\")\n",
        "print(f\"Etiqueta Predicha con modelo cargado: {predicted_label_cargado}\")"
      ],
      "metadata": {
        "colab": {
          "base_uri": "https://localhost:8080/"
        },
        "id": "WKRA5u7TtwsH",
        "outputId": "bdd5fb74-edf9-4cc3-8cc5-92fb67294170"
      },
      "execution_count": 18,
      "outputs": [
        {
          "output_type": "stream",
          "name": "stdout",
          "text": [
            "Texto: Adoro ver cómo funcionan los sistemas y cómo interactúan entre sí\n",
            "Etiqueta Predicha con modelo cargado: Ing. En Sistemas\n"
          ]
        }
      ]
    },
    {
      "cell_type": "code",
      "source": [
        "# Ejemplo de texto para probar el modelo cargado\n",
        "texto_a_probar_cargado = \"Desde pequeño siempre me llamo la atencion la programacion y participe en eventos de programacion competitiva\"\n",
        "\n",
        "# Probar el modelo con el texto de ejemplo\n",
        "predicted_label_cargado = predict_with_loaded_model(loaded_model, tokenizer, texto_a_probar_cargado)\n",
        "\n",
        "# Imprimir la etiqueta predicha de forma legible\n",
        "print(f\"Texto: {texto_a_probar_cargado}\")\n",
        "print(f\"Etiqueta Predicha con modelo cargado: {predicted_label_cargado}\")"
      ],
      "metadata": {
        "colab": {
          "base_uri": "https://localhost:8080/"
        },
        "id": "5mHYXeVXt79V",
        "outputId": "ac17e8d1-a66c-4cac-8fbf-9f960575b70e"
      },
      "execution_count": 19,
      "outputs": [
        {
          "output_type": "stream",
          "name": "stdout",
          "text": [
            "Texto: Desde pequeño siempre me llamo la atencion la programacion y participe en eventos de programacion competitiva\n",
            "Etiqueta Predicha con modelo cargado: Ing. En Ciencias de la Computación\n"
          ]
        }
      ]
    },
    {
      "cell_type": "code",
      "source": [
        "# Ejemplo de texto para probar el modelo cargado\n",
        "texto_a_probar_cargado = \"La producción de contenido visual siempre ha sido una pasion mia\"\n",
        "\n",
        "# Probar el modelo con el texto de ejemplo\n",
        "predicted_label_cargado = predict_with_loaded_model(loaded_model, tokenizer, texto_a_probar_cargado)\n",
        "\n",
        "# Imprimir la etiqueta predicha de forma legible\n",
        "print(f\"Texto: {texto_a_probar_cargado}\")\n",
        "print(f\"Etiqueta Predicha con modelo cargado: {predicted_label_cargado}\")"
      ],
      "metadata": {
        "colab": {
          "base_uri": "https://localhost:8080/"
        },
        "id": "-bEgT_gpuF0F",
        "outputId": "f5d15a4d-3338-4b0b-d192-79854b13f75b"
      },
      "execution_count": 20,
      "outputs": [
        {
          "output_type": "stream",
          "name": "stdout",
          "text": [
            "Texto: La producción de contenido visual siempre ha sido una pasion mia\n",
            "Etiqueta Predicha con modelo cargado: Ing. En Diseño y Animacion Digital\n"
          ]
        }
      ]
    },
    {
      "cell_type": "code",
      "source": [
        "# Ejemplo de texto para probar el modelo cargado\n",
        "texto_a_probar_cargado = \"Tengo interes en aprender sobre redes, ingenieria social y como se mueve la informacion\"\n",
        "\n",
        "# Probar el modelo con el texto de ejemplo\n",
        "predicted_label_cargado = predict_with_loaded_model(loaded_model, tokenizer, texto_a_probar_cargado)\n",
        "\n",
        "# Imprimir la etiqueta predicha de forma legible\n",
        "print(f\"Texto: {texto_a_probar_cargado}\")\n",
        "print(f\"Etiqueta Predicha con modelo cargado: {predicted_label_cargado}\")"
      ],
      "metadata": {
        "colab": {
          "base_uri": "https://localhost:8080/"
        },
        "id": "OwGql8D8uONP",
        "outputId": "568a7e59-21f1-4afb-fe23-d564da97541a"
      },
      "execution_count": 21,
      "outputs": [
        {
          "output_type": "stream",
          "name": "stdout",
          "text": [
            "Texto: Tengo interes en aprender sobre redes, ingenieria social y como se mueve la informacion\n",
            "Etiqueta Predicha con modelo cargado: Ing. En Tecnologías de la Información y Seguridad\n"
          ]
        }
      ]
    },
    {
      "cell_type": "code",
      "source": [
        "def predict_with_loaded_model(model, tokenizer, text):\n",
        "    # Tokenizar el texto de entrada\n",
        "    inputs = tokenizer(text, truncation=True, padding='max_length', max_length=model.tokenizer.model_max_length, return_tensors='pt', return_attention_mask=True)\n",
        "\n",
        "    # Obtener predicciones del modelo cargado\n",
        "    with torch.no_grad():\n",
        "        logits = model(inputs['input_ids'], attention_mask=inputs['attention_mask'])\n",
        "\n",
        "    # Aplicar softmax para obtener las probabilidades\n",
        "    probabilities = torch.nn.functional.softmax(logits, dim=1)\n",
        "\n",
        "    # Obtener la etiqueta predicha y el porcentaje de confianza máximo\n",
        "    max_probability, predicted_class = torch.max(probabilities, 1)\n",
        "    confidence_percentage = max_probability.item() * 100\n",
        "\n",
        "    return label_mapping(predicted_class.item()), confidence_percentage\n",
        "\n",
        "# Ejemplo de texto para probar el modelo cargado\n",
        "texto_a_probar_cargado = \"pintar\"\n",
        "\n",
        "# Probar el modelo con el texto de ejemplo\n",
        "predicted_label_cargado, confidence_percentage = predict_with_loaded_model(loaded_model, tokenizer, texto_a_probar_cargado)\n",
        "\n",
        "# Imprimir la etiqueta predicha y el porcentaje de confianza de forma legible\n",
        "print(f\"Texto: {texto_a_probar_cargado}\")\n",
        "print(f\"Etiqueta Predicha con modelo cargado: {predicted_label_cargado}\")\n",
        "print(f\"Confianza: {confidence_percentage:.2f}%\")\n"
      ],
      "metadata": {
        "colab": {
          "base_uri": "https://localhost:8080/"
        },
        "id": "rcXL8lN11bsc",
        "outputId": "e96e7f77-40b6-4413-e68c-37ab2d780aef"
      },
      "execution_count": 22,
      "outputs": [
        {
          "output_type": "stream",
          "name": "stdout",
          "text": [
            "Texto: pintar\n",
            "Etiqueta Predicha con modelo cargado: Ing. En Sistemas\n",
            "Confianza: 42.48%\n"
          ]
        }
      ]
    }
  ],
  "metadata": {
    "accelerator": "GPU",
    "colab": {
      "provenance": []
    },
    "kernelspec": {
      "display_name": "Python 3",
      "name": "python3"
    },
    "language_info": {
      "name": "python"
    },
    "widgets": {
      "application/vnd.jupyter.widget-state+json": {
        "9cc42fdc77724aa295dddac6a1221a03": {
          "model_module": "@jupyter-widgets/controls",
          "model_name": "HBoxModel",
          "model_module_version": "1.5.0",
          "state": {
            "_dom_classes": [],
            "_model_module": "@jupyter-widgets/controls",
            "_model_module_version": "1.5.0",
            "_model_name": "HBoxModel",
            "_view_count": null,
            "_view_module": "@jupyter-widgets/controls",
            "_view_module_version": "1.5.0",
            "_view_name": "HBoxView",
            "box_style": "",
            "children": [
              "IPY_MODEL_958c4caa3a0b428890c6d68a48bc98bb",
              "IPY_MODEL_546068531bea4f8c8554a5670546cafd",
              "IPY_MODEL_de4b5e783881427583cddc8b09486b49"
            ],
            "layout": "IPY_MODEL_02c8cd29974c4f2788cd50a6fcc1a784"
          }
        },
        "958c4caa3a0b428890c6d68a48bc98bb": {
          "model_module": "@jupyter-widgets/controls",
          "model_name": "HTMLModel",
          "model_module_version": "1.5.0",
          "state": {
            "_dom_classes": [],
            "_model_module": "@jupyter-widgets/controls",
            "_model_module_version": "1.5.0",
            "_model_name": "HTMLModel",
            "_view_count": null,
            "_view_module": "@jupyter-widgets/controls",
            "_view_module_version": "1.5.0",
            "_view_name": "HTMLView",
            "description": "",
            "description_tooltip": null,
            "layout": "IPY_MODEL_bbf10ee5075249938dc1809a3ee094c0",
            "placeholder": "​",
            "style": "IPY_MODEL_23e72e7e5ded40868b836ccfc31f8b29",
            "value": "tokenizer_config.json: 100%"
          }
        },
        "546068531bea4f8c8554a5670546cafd": {
          "model_module": "@jupyter-widgets/controls",
          "model_name": "FloatProgressModel",
          "model_module_version": "1.5.0",
          "state": {
            "_dom_classes": [],
            "_model_module": "@jupyter-widgets/controls",
            "_model_module_version": "1.5.0",
            "_model_name": "FloatProgressModel",
            "_view_count": null,
            "_view_module": "@jupyter-widgets/controls",
            "_view_module_version": "1.5.0",
            "_view_name": "ProgressView",
            "bar_style": "success",
            "description": "",
            "description_tooltip": null,
            "layout": "IPY_MODEL_1892b03312354806ba286f6370618eca",
            "max": 28,
            "min": 0,
            "orientation": "horizontal",
            "style": "IPY_MODEL_c942a64d9ab545849a4a4a14e11be2b8",
            "value": 28
          }
        },
        "de4b5e783881427583cddc8b09486b49": {
          "model_module": "@jupyter-widgets/controls",
          "model_name": "HTMLModel",
          "model_module_version": "1.5.0",
          "state": {
            "_dom_classes": [],
            "_model_module": "@jupyter-widgets/controls",
            "_model_module_version": "1.5.0",
            "_model_name": "HTMLModel",
            "_view_count": null,
            "_view_module": "@jupyter-widgets/controls",
            "_view_module_version": "1.5.0",
            "_view_name": "HTMLView",
            "description": "",
            "description_tooltip": null,
            "layout": "IPY_MODEL_14844f85c111486f9514a97dfe03fbfe",
            "placeholder": "​",
            "style": "IPY_MODEL_ea047ec3285d490889bcd3ae502b0415",
            "value": " 28.0/28.0 [00:00&lt;00:00, 1.77kB/s]"
          }
        },
        "02c8cd29974c4f2788cd50a6fcc1a784": {
          "model_module": "@jupyter-widgets/base",
          "model_name": "LayoutModel",
          "model_module_version": "1.2.0",
          "state": {
            "_model_module": "@jupyter-widgets/base",
            "_model_module_version": "1.2.0",
            "_model_name": "LayoutModel",
            "_view_count": null,
            "_view_module": "@jupyter-widgets/base",
            "_view_module_version": "1.2.0",
            "_view_name": "LayoutView",
            "align_content": null,
            "align_items": null,
            "align_self": null,
            "border": null,
            "bottom": null,
            "display": null,
            "flex": null,
            "flex_flow": null,
            "grid_area": null,
            "grid_auto_columns": null,
            "grid_auto_flow": null,
            "grid_auto_rows": null,
            "grid_column": null,
            "grid_gap": null,
            "grid_row": null,
            "grid_template_areas": null,
            "grid_template_columns": null,
            "grid_template_rows": null,
            "height": null,
            "justify_content": null,
            "justify_items": null,
            "left": null,
            "margin": null,
            "max_height": null,
            "max_width": null,
            "min_height": null,
            "min_width": null,
            "object_fit": null,
            "object_position": null,
            "order": null,
            "overflow": null,
            "overflow_x": null,
            "overflow_y": null,
            "padding": null,
            "right": null,
            "top": null,
            "visibility": null,
            "width": null
          }
        },
        "bbf10ee5075249938dc1809a3ee094c0": {
          "model_module": "@jupyter-widgets/base",
          "model_name": "LayoutModel",
          "model_module_version": "1.2.0",
          "state": {
            "_model_module": "@jupyter-widgets/base",
            "_model_module_version": "1.2.0",
            "_model_name": "LayoutModel",
            "_view_count": null,
            "_view_module": "@jupyter-widgets/base",
            "_view_module_version": "1.2.0",
            "_view_name": "LayoutView",
            "align_content": null,
            "align_items": null,
            "align_self": null,
            "border": null,
            "bottom": null,
            "display": null,
            "flex": null,
            "flex_flow": null,
            "grid_area": null,
            "grid_auto_columns": null,
            "grid_auto_flow": null,
            "grid_auto_rows": null,
            "grid_column": null,
            "grid_gap": null,
            "grid_row": null,
            "grid_template_areas": null,
            "grid_template_columns": null,
            "grid_template_rows": null,
            "height": null,
            "justify_content": null,
            "justify_items": null,
            "left": null,
            "margin": null,
            "max_height": null,
            "max_width": null,
            "min_height": null,
            "min_width": null,
            "object_fit": null,
            "object_position": null,
            "order": null,
            "overflow": null,
            "overflow_x": null,
            "overflow_y": null,
            "padding": null,
            "right": null,
            "top": null,
            "visibility": null,
            "width": null
          }
        },
        "23e72e7e5ded40868b836ccfc31f8b29": {
          "model_module": "@jupyter-widgets/controls",
          "model_name": "DescriptionStyleModel",
          "model_module_version": "1.5.0",
          "state": {
            "_model_module": "@jupyter-widgets/controls",
            "_model_module_version": "1.5.0",
            "_model_name": "DescriptionStyleModel",
            "_view_count": null,
            "_view_module": "@jupyter-widgets/base",
            "_view_module_version": "1.2.0",
            "_view_name": "StyleView",
            "description_width": ""
          }
        },
        "1892b03312354806ba286f6370618eca": {
          "model_module": "@jupyter-widgets/base",
          "model_name": "LayoutModel",
          "model_module_version": "1.2.0",
          "state": {
            "_model_module": "@jupyter-widgets/base",
            "_model_module_version": "1.2.0",
            "_model_name": "LayoutModel",
            "_view_count": null,
            "_view_module": "@jupyter-widgets/base",
            "_view_module_version": "1.2.0",
            "_view_name": "LayoutView",
            "align_content": null,
            "align_items": null,
            "align_self": null,
            "border": null,
            "bottom": null,
            "display": null,
            "flex": null,
            "flex_flow": null,
            "grid_area": null,
            "grid_auto_columns": null,
            "grid_auto_flow": null,
            "grid_auto_rows": null,
            "grid_column": null,
            "grid_gap": null,
            "grid_row": null,
            "grid_template_areas": null,
            "grid_template_columns": null,
            "grid_template_rows": null,
            "height": null,
            "justify_content": null,
            "justify_items": null,
            "left": null,
            "margin": null,
            "max_height": null,
            "max_width": null,
            "min_height": null,
            "min_width": null,
            "object_fit": null,
            "object_position": null,
            "order": null,
            "overflow": null,
            "overflow_x": null,
            "overflow_y": null,
            "padding": null,
            "right": null,
            "top": null,
            "visibility": null,
            "width": null
          }
        },
        "c942a64d9ab545849a4a4a14e11be2b8": {
          "model_module": "@jupyter-widgets/controls",
          "model_name": "ProgressStyleModel",
          "model_module_version": "1.5.0",
          "state": {
            "_model_module": "@jupyter-widgets/controls",
            "_model_module_version": "1.5.0",
            "_model_name": "ProgressStyleModel",
            "_view_count": null,
            "_view_module": "@jupyter-widgets/base",
            "_view_module_version": "1.2.0",
            "_view_name": "StyleView",
            "bar_color": null,
            "description_width": ""
          }
        },
        "14844f85c111486f9514a97dfe03fbfe": {
          "model_module": "@jupyter-widgets/base",
          "model_name": "LayoutModel",
          "model_module_version": "1.2.0",
          "state": {
            "_model_module": "@jupyter-widgets/base",
            "_model_module_version": "1.2.0",
            "_model_name": "LayoutModel",
            "_view_count": null,
            "_view_module": "@jupyter-widgets/base",
            "_view_module_version": "1.2.0",
            "_view_name": "LayoutView",
            "align_content": null,
            "align_items": null,
            "align_self": null,
            "border": null,
            "bottom": null,
            "display": null,
            "flex": null,
            "flex_flow": null,
            "grid_area": null,
            "grid_auto_columns": null,
            "grid_auto_flow": null,
            "grid_auto_rows": null,
            "grid_column": null,
            "grid_gap": null,
            "grid_row": null,
            "grid_template_areas": null,
            "grid_template_columns": null,
            "grid_template_rows": null,
            "height": null,
            "justify_content": null,
            "justify_items": null,
            "left": null,
            "margin": null,
            "max_height": null,
            "max_width": null,
            "min_height": null,
            "min_width": null,
            "object_fit": null,
            "object_position": null,
            "order": null,
            "overflow": null,
            "overflow_x": null,
            "overflow_y": null,
            "padding": null,
            "right": null,
            "top": null,
            "visibility": null,
            "width": null
          }
        },
        "ea047ec3285d490889bcd3ae502b0415": {
          "model_module": "@jupyter-widgets/controls",
          "model_name": "DescriptionStyleModel",
          "model_module_version": "1.5.0",
          "state": {
            "_model_module": "@jupyter-widgets/controls",
            "_model_module_version": "1.5.0",
            "_model_name": "DescriptionStyleModel",
            "_view_count": null,
            "_view_module": "@jupyter-widgets/base",
            "_view_module_version": "1.2.0",
            "_view_name": "StyleView",
            "description_width": ""
          }
        },
        "ba2437f1bdb24cfa8277ce617d34c526": {
          "model_module": "@jupyter-widgets/controls",
          "model_name": "HBoxModel",
          "model_module_version": "1.5.0",
          "state": {
            "_dom_classes": [],
            "_model_module": "@jupyter-widgets/controls",
            "_model_module_version": "1.5.0",
            "_model_name": "HBoxModel",
            "_view_count": null,
            "_view_module": "@jupyter-widgets/controls",
            "_view_module_version": "1.5.0",
            "_view_name": "HBoxView",
            "box_style": "",
            "children": [
              "IPY_MODEL_344f324a0d04472683a434d2008a5cad",
              "IPY_MODEL_ded8e254f80447d6a976057236e87eb4",
              "IPY_MODEL_604253d1e2d743d8982f29e5de9a046a"
            ],
            "layout": "IPY_MODEL_739649b2575a40be96cbe744f1b5dbc8"
          }
        },
        "344f324a0d04472683a434d2008a5cad": {
          "model_module": "@jupyter-widgets/controls",
          "model_name": "HTMLModel",
          "model_module_version": "1.5.0",
          "state": {
            "_dom_classes": [],
            "_model_module": "@jupyter-widgets/controls",
            "_model_module_version": "1.5.0",
            "_model_name": "HTMLModel",
            "_view_count": null,
            "_view_module": "@jupyter-widgets/controls",
            "_view_module_version": "1.5.0",
            "_view_name": "HTMLView",
            "description": "",
            "description_tooltip": null,
            "layout": "IPY_MODEL_d7e87c7ed2014eeba0f3c89430f019cd",
            "placeholder": "​",
            "style": "IPY_MODEL_feb1da8af27f4d9780b79fff992b99b2",
            "value": "vocab.txt: 100%"
          }
        },
        "ded8e254f80447d6a976057236e87eb4": {
          "model_module": "@jupyter-widgets/controls",
          "model_name": "FloatProgressModel",
          "model_module_version": "1.5.0",
          "state": {
            "_dom_classes": [],
            "_model_module": "@jupyter-widgets/controls",
            "_model_module_version": "1.5.0",
            "_model_name": "FloatProgressModel",
            "_view_count": null,
            "_view_module": "@jupyter-widgets/controls",
            "_view_module_version": "1.5.0",
            "_view_name": "ProgressView",
            "bar_style": "success",
            "description": "",
            "description_tooltip": null,
            "layout": "IPY_MODEL_b72bbc7fd7ab4423aa484c7bdec624a6",
            "max": 231508,
            "min": 0,
            "orientation": "horizontal",
            "style": "IPY_MODEL_64a0047f3bbc45f984a5bd19e206d3c3",
            "value": 231508
          }
        },
        "604253d1e2d743d8982f29e5de9a046a": {
          "model_module": "@jupyter-widgets/controls",
          "model_name": "HTMLModel",
          "model_module_version": "1.5.0",
          "state": {
            "_dom_classes": [],
            "_model_module": "@jupyter-widgets/controls",
            "_model_module_version": "1.5.0",
            "_model_name": "HTMLModel",
            "_view_count": null,
            "_view_module": "@jupyter-widgets/controls",
            "_view_module_version": "1.5.0",
            "_view_name": "HTMLView",
            "description": "",
            "description_tooltip": null,
            "layout": "IPY_MODEL_e6a55386c99c467d805d3b3b4f793c90",
            "placeholder": "​",
            "style": "IPY_MODEL_42983093552b4a99a22a8f7f7c705570",
            "value": " 232k/232k [00:00&lt;00:00, 5.79MB/s]"
          }
        },
        "739649b2575a40be96cbe744f1b5dbc8": {
          "model_module": "@jupyter-widgets/base",
          "model_name": "LayoutModel",
          "model_module_version": "1.2.0",
          "state": {
            "_model_module": "@jupyter-widgets/base",
            "_model_module_version": "1.2.0",
            "_model_name": "LayoutModel",
            "_view_count": null,
            "_view_module": "@jupyter-widgets/base",
            "_view_module_version": "1.2.0",
            "_view_name": "LayoutView",
            "align_content": null,
            "align_items": null,
            "align_self": null,
            "border": null,
            "bottom": null,
            "display": null,
            "flex": null,
            "flex_flow": null,
            "grid_area": null,
            "grid_auto_columns": null,
            "grid_auto_flow": null,
            "grid_auto_rows": null,
            "grid_column": null,
            "grid_gap": null,
            "grid_row": null,
            "grid_template_areas": null,
            "grid_template_columns": null,
            "grid_template_rows": null,
            "height": null,
            "justify_content": null,
            "justify_items": null,
            "left": null,
            "margin": null,
            "max_height": null,
            "max_width": null,
            "min_height": null,
            "min_width": null,
            "object_fit": null,
            "object_position": null,
            "order": null,
            "overflow": null,
            "overflow_x": null,
            "overflow_y": null,
            "padding": null,
            "right": null,
            "top": null,
            "visibility": null,
            "width": null
          }
        },
        "d7e87c7ed2014eeba0f3c89430f019cd": {
          "model_module": "@jupyter-widgets/base",
          "model_name": "LayoutModel",
          "model_module_version": "1.2.0",
          "state": {
            "_model_module": "@jupyter-widgets/base",
            "_model_module_version": "1.2.0",
            "_model_name": "LayoutModel",
            "_view_count": null,
            "_view_module": "@jupyter-widgets/base",
            "_view_module_version": "1.2.0",
            "_view_name": "LayoutView",
            "align_content": null,
            "align_items": null,
            "align_self": null,
            "border": null,
            "bottom": null,
            "display": null,
            "flex": null,
            "flex_flow": null,
            "grid_area": null,
            "grid_auto_columns": null,
            "grid_auto_flow": null,
            "grid_auto_rows": null,
            "grid_column": null,
            "grid_gap": null,
            "grid_row": null,
            "grid_template_areas": null,
            "grid_template_columns": null,
            "grid_template_rows": null,
            "height": null,
            "justify_content": null,
            "justify_items": null,
            "left": null,
            "margin": null,
            "max_height": null,
            "max_width": null,
            "min_height": null,
            "min_width": null,
            "object_fit": null,
            "object_position": null,
            "order": null,
            "overflow": null,
            "overflow_x": null,
            "overflow_y": null,
            "padding": null,
            "right": null,
            "top": null,
            "visibility": null,
            "width": null
          }
        },
        "feb1da8af27f4d9780b79fff992b99b2": {
          "model_module": "@jupyter-widgets/controls",
          "model_name": "DescriptionStyleModel",
          "model_module_version": "1.5.0",
          "state": {
            "_model_module": "@jupyter-widgets/controls",
            "_model_module_version": "1.5.0",
            "_model_name": "DescriptionStyleModel",
            "_view_count": null,
            "_view_module": "@jupyter-widgets/base",
            "_view_module_version": "1.2.0",
            "_view_name": "StyleView",
            "description_width": ""
          }
        },
        "b72bbc7fd7ab4423aa484c7bdec624a6": {
          "model_module": "@jupyter-widgets/base",
          "model_name": "LayoutModel",
          "model_module_version": "1.2.0",
          "state": {
            "_model_module": "@jupyter-widgets/base",
            "_model_module_version": "1.2.0",
            "_model_name": "LayoutModel",
            "_view_count": null,
            "_view_module": "@jupyter-widgets/base",
            "_view_module_version": "1.2.0",
            "_view_name": "LayoutView",
            "align_content": null,
            "align_items": null,
            "align_self": null,
            "border": null,
            "bottom": null,
            "display": null,
            "flex": null,
            "flex_flow": null,
            "grid_area": null,
            "grid_auto_columns": null,
            "grid_auto_flow": null,
            "grid_auto_rows": null,
            "grid_column": null,
            "grid_gap": null,
            "grid_row": null,
            "grid_template_areas": null,
            "grid_template_columns": null,
            "grid_template_rows": null,
            "height": null,
            "justify_content": null,
            "justify_items": null,
            "left": null,
            "margin": null,
            "max_height": null,
            "max_width": null,
            "min_height": null,
            "min_width": null,
            "object_fit": null,
            "object_position": null,
            "order": null,
            "overflow": null,
            "overflow_x": null,
            "overflow_y": null,
            "padding": null,
            "right": null,
            "top": null,
            "visibility": null,
            "width": null
          }
        },
        "64a0047f3bbc45f984a5bd19e206d3c3": {
          "model_module": "@jupyter-widgets/controls",
          "model_name": "ProgressStyleModel",
          "model_module_version": "1.5.0",
          "state": {
            "_model_module": "@jupyter-widgets/controls",
            "_model_module_version": "1.5.0",
            "_model_name": "ProgressStyleModel",
            "_view_count": null,
            "_view_module": "@jupyter-widgets/base",
            "_view_module_version": "1.2.0",
            "_view_name": "StyleView",
            "bar_color": null,
            "description_width": ""
          }
        },
        "e6a55386c99c467d805d3b3b4f793c90": {
          "model_module": "@jupyter-widgets/base",
          "model_name": "LayoutModel",
          "model_module_version": "1.2.0",
          "state": {
            "_model_module": "@jupyter-widgets/base",
            "_model_module_version": "1.2.0",
            "_model_name": "LayoutModel",
            "_view_count": null,
            "_view_module": "@jupyter-widgets/base",
            "_view_module_version": "1.2.0",
            "_view_name": "LayoutView",
            "align_content": null,
            "align_items": null,
            "align_self": null,
            "border": null,
            "bottom": null,
            "display": null,
            "flex": null,
            "flex_flow": null,
            "grid_area": null,
            "grid_auto_columns": null,
            "grid_auto_flow": null,
            "grid_auto_rows": null,
            "grid_column": null,
            "grid_gap": null,
            "grid_row": null,
            "grid_template_areas": null,
            "grid_template_columns": null,
            "grid_template_rows": null,
            "height": null,
            "justify_content": null,
            "justify_items": null,
            "left": null,
            "margin": null,
            "max_height": null,
            "max_width": null,
            "min_height": null,
            "min_width": null,
            "object_fit": null,
            "object_position": null,
            "order": null,
            "overflow": null,
            "overflow_x": null,
            "overflow_y": null,
            "padding": null,
            "right": null,
            "top": null,
            "visibility": null,
            "width": null
          }
        },
        "42983093552b4a99a22a8f7f7c705570": {
          "model_module": "@jupyter-widgets/controls",
          "model_name": "DescriptionStyleModel",
          "model_module_version": "1.5.0",
          "state": {
            "_model_module": "@jupyter-widgets/controls",
            "_model_module_version": "1.5.0",
            "_model_name": "DescriptionStyleModel",
            "_view_count": null,
            "_view_module": "@jupyter-widgets/base",
            "_view_module_version": "1.2.0",
            "_view_name": "StyleView",
            "description_width": ""
          }
        },
        "8119724fa73a46749403f905a51699cf": {
          "model_module": "@jupyter-widgets/controls",
          "model_name": "HBoxModel",
          "model_module_version": "1.5.0",
          "state": {
            "_dom_classes": [],
            "_model_module": "@jupyter-widgets/controls",
            "_model_module_version": "1.5.0",
            "_model_name": "HBoxModel",
            "_view_count": null,
            "_view_module": "@jupyter-widgets/controls",
            "_view_module_version": "1.5.0",
            "_view_name": "HBoxView",
            "box_style": "",
            "children": [
              "IPY_MODEL_e1eecef3f4294ab590ae1e9e083dfaa6",
              "IPY_MODEL_5e2d82c3c43240b195bba1674aebc0e6",
              "IPY_MODEL_5f33d084e7954b389d5bd116eb81ab0c"
            ],
            "layout": "IPY_MODEL_d1b245dc18cf4bdb96320e62ab5f10f9"
          }
        },
        "e1eecef3f4294ab590ae1e9e083dfaa6": {
          "model_module": "@jupyter-widgets/controls",
          "model_name": "HTMLModel",
          "model_module_version": "1.5.0",
          "state": {
            "_dom_classes": [],
            "_model_module": "@jupyter-widgets/controls",
            "_model_module_version": "1.5.0",
            "_model_name": "HTMLModel",
            "_view_count": null,
            "_view_module": "@jupyter-widgets/controls",
            "_view_module_version": "1.5.0",
            "_view_name": "HTMLView",
            "description": "",
            "description_tooltip": null,
            "layout": "IPY_MODEL_4e5a1c404c2e40679b89c86625786deb",
            "placeholder": "​",
            "style": "IPY_MODEL_19ba5ac816834b00af49635fce031792",
            "value": "tokenizer.json: 100%"
          }
        },
        "5e2d82c3c43240b195bba1674aebc0e6": {
          "model_module": "@jupyter-widgets/controls",
          "model_name": "FloatProgressModel",
          "model_module_version": "1.5.0",
          "state": {
            "_dom_classes": [],
            "_model_module": "@jupyter-widgets/controls",
            "_model_module_version": "1.5.0",
            "_model_name": "FloatProgressModel",
            "_view_count": null,
            "_view_module": "@jupyter-widgets/controls",
            "_view_module_version": "1.5.0",
            "_view_name": "ProgressView",
            "bar_style": "success",
            "description": "",
            "description_tooltip": null,
            "layout": "IPY_MODEL_03dce99bd0a2447fae6fe82fccb33ac9",
            "max": 466062,
            "min": 0,
            "orientation": "horizontal",
            "style": "IPY_MODEL_f3d9db7b91a540618dbdf0739d74fd69",
            "value": 466062
          }
        },
        "5f33d084e7954b389d5bd116eb81ab0c": {
          "model_module": "@jupyter-widgets/controls",
          "model_name": "HTMLModel",
          "model_module_version": "1.5.0",
          "state": {
            "_dom_classes": [],
            "_model_module": "@jupyter-widgets/controls",
            "_model_module_version": "1.5.0",
            "_model_name": "HTMLModel",
            "_view_count": null,
            "_view_module": "@jupyter-widgets/controls",
            "_view_module_version": "1.5.0",
            "_view_name": "HTMLView",
            "description": "",
            "description_tooltip": null,
            "layout": "IPY_MODEL_b0f5723cb1024a258b53659e2112952c",
            "placeholder": "​",
            "style": "IPY_MODEL_20b045f20fdc44998e0a8e93c94a8e69",
            "value": " 466k/466k [00:00&lt;00:00, 2.30MB/s]"
          }
        },
        "d1b245dc18cf4bdb96320e62ab5f10f9": {
          "model_module": "@jupyter-widgets/base",
          "model_name": "LayoutModel",
          "model_module_version": "1.2.0",
          "state": {
            "_model_module": "@jupyter-widgets/base",
            "_model_module_version": "1.2.0",
            "_model_name": "LayoutModel",
            "_view_count": null,
            "_view_module": "@jupyter-widgets/base",
            "_view_module_version": "1.2.0",
            "_view_name": "LayoutView",
            "align_content": null,
            "align_items": null,
            "align_self": null,
            "border": null,
            "bottom": null,
            "display": null,
            "flex": null,
            "flex_flow": null,
            "grid_area": null,
            "grid_auto_columns": null,
            "grid_auto_flow": null,
            "grid_auto_rows": null,
            "grid_column": null,
            "grid_gap": null,
            "grid_row": null,
            "grid_template_areas": null,
            "grid_template_columns": null,
            "grid_template_rows": null,
            "height": null,
            "justify_content": null,
            "justify_items": null,
            "left": null,
            "margin": null,
            "max_height": null,
            "max_width": null,
            "min_height": null,
            "min_width": null,
            "object_fit": null,
            "object_position": null,
            "order": null,
            "overflow": null,
            "overflow_x": null,
            "overflow_y": null,
            "padding": null,
            "right": null,
            "top": null,
            "visibility": null,
            "width": null
          }
        },
        "4e5a1c404c2e40679b89c86625786deb": {
          "model_module": "@jupyter-widgets/base",
          "model_name": "LayoutModel",
          "model_module_version": "1.2.0",
          "state": {
            "_model_module": "@jupyter-widgets/base",
            "_model_module_version": "1.2.0",
            "_model_name": "LayoutModel",
            "_view_count": null,
            "_view_module": "@jupyter-widgets/base",
            "_view_module_version": "1.2.0",
            "_view_name": "LayoutView",
            "align_content": null,
            "align_items": null,
            "align_self": null,
            "border": null,
            "bottom": null,
            "display": null,
            "flex": null,
            "flex_flow": null,
            "grid_area": null,
            "grid_auto_columns": null,
            "grid_auto_flow": null,
            "grid_auto_rows": null,
            "grid_column": null,
            "grid_gap": null,
            "grid_row": null,
            "grid_template_areas": null,
            "grid_template_columns": null,
            "grid_template_rows": null,
            "height": null,
            "justify_content": null,
            "justify_items": null,
            "left": null,
            "margin": null,
            "max_height": null,
            "max_width": null,
            "min_height": null,
            "min_width": null,
            "object_fit": null,
            "object_position": null,
            "order": null,
            "overflow": null,
            "overflow_x": null,
            "overflow_y": null,
            "padding": null,
            "right": null,
            "top": null,
            "visibility": null,
            "width": null
          }
        },
        "19ba5ac816834b00af49635fce031792": {
          "model_module": "@jupyter-widgets/controls",
          "model_name": "DescriptionStyleModel",
          "model_module_version": "1.5.0",
          "state": {
            "_model_module": "@jupyter-widgets/controls",
            "_model_module_version": "1.5.0",
            "_model_name": "DescriptionStyleModel",
            "_view_count": null,
            "_view_module": "@jupyter-widgets/base",
            "_view_module_version": "1.2.0",
            "_view_name": "StyleView",
            "description_width": ""
          }
        },
        "03dce99bd0a2447fae6fe82fccb33ac9": {
          "model_module": "@jupyter-widgets/base",
          "model_name": "LayoutModel",
          "model_module_version": "1.2.0",
          "state": {
            "_model_module": "@jupyter-widgets/base",
            "_model_module_version": "1.2.0",
            "_model_name": "LayoutModel",
            "_view_count": null,
            "_view_module": "@jupyter-widgets/base",
            "_view_module_version": "1.2.0",
            "_view_name": "LayoutView",
            "align_content": null,
            "align_items": null,
            "align_self": null,
            "border": null,
            "bottom": null,
            "display": null,
            "flex": null,
            "flex_flow": null,
            "grid_area": null,
            "grid_auto_columns": null,
            "grid_auto_flow": null,
            "grid_auto_rows": null,
            "grid_column": null,
            "grid_gap": null,
            "grid_row": null,
            "grid_template_areas": null,
            "grid_template_columns": null,
            "grid_template_rows": null,
            "height": null,
            "justify_content": null,
            "justify_items": null,
            "left": null,
            "margin": null,
            "max_height": null,
            "max_width": null,
            "min_height": null,
            "min_width": null,
            "object_fit": null,
            "object_position": null,
            "order": null,
            "overflow": null,
            "overflow_x": null,
            "overflow_y": null,
            "padding": null,
            "right": null,
            "top": null,
            "visibility": null,
            "width": null
          }
        },
        "f3d9db7b91a540618dbdf0739d74fd69": {
          "model_module": "@jupyter-widgets/controls",
          "model_name": "ProgressStyleModel",
          "model_module_version": "1.5.0",
          "state": {
            "_model_module": "@jupyter-widgets/controls",
            "_model_module_version": "1.5.0",
            "_model_name": "ProgressStyleModel",
            "_view_count": null,
            "_view_module": "@jupyter-widgets/base",
            "_view_module_version": "1.2.0",
            "_view_name": "StyleView",
            "bar_color": null,
            "description_width": ""
          }
        },
        "b0f5723cb1024a258b53659e2112952c": {
          "model_module": "@jupyter-widgets/base",
          "model_name": "LayoutModel",
          "model_module_version": "1.2.0",
          "state": {
            "_model_module": "@jupyter-widgets/base",
            "_model_module_version": "1.2.0",
            "_model_name": "LayoutModel",
            "_view_count": null,
            "_view_module": "@jupyter-widgets/base",
            "_view_module_version": "1.2.0",
            "_view_name": "LayoutView",
            "align_content": null,
            "align_items": null,
            "align_self": null,
            "border": null,
            "bottom": null,
            "display": null,
            "flex": null,
            "flex_flow": null,
            "grid_area": null,
            "grid_auto_columns": null,
            "grid_auto_flow": null,
            "grid_auto_rows": null,
            "grid_column": null,
            "grid_gap": null,
            "grid_row": null,
            "grid_template_areas": null,
            "grid_template_columns": null,
            "grid_template_rows": null,
            "height": null,
            "justify_content": null,
            "justify_items": null,
            "left": null,
            "margin": null,
            "max_height": null,
            "max_width": null,
            "min_height": null,
            "min_width": null,
            "object_fit": null,
            "object_position": null,
            "order": null,
            "overflow": null,
            "overflow_x": null,
            "overflow_y": null,
            "padding": null,
            "right": null,
            "top": null,
            "visibility": null,
            "width": null
          }
        },
        "20b045f20fdc44998e0a8e93c94a8e69": {
          "model_module": "@jupyter-widgets/controls",
          "model_name": "DescriptionStyleModel",
          "model_module_version": "1.5.0",
          "state": {
            "_model_module": "@jupyter-widgets/controls",
            "_model_module_version": "1.5.0",
            "_model_name": "DescriptionStyleModel",
            "_view_count": null,
            "_view_module": "@jupyter-widgets/base",
            "_view_module_version": "1.2.0",
            "_view_name": "StyleView",
            "description_width": ""
          }
        },
        "6a25b45b71f64ba69467a99802f43b6a": {
          "model_module": "@jupyter-widgets/controls",
          "model_name": "HBoxModel",
          "model_module_version": "1.5.0",
          "state": {
            "_dom_classes": [],
            "_model_module": "@jupyter-widgets/controls",
            "_model_module_version": "1.5.0",
            "_model_name": "HBoxModel",
            "_view_count": null,
            "_view_module": "@jupyter-widgets/controls",
            "_view_module_version": "1.5.0",
            "_view_name": "HBoxView",
            "box_style": "",
            "children": [
              "IPY_MODEL_393ff204abf44c969f3724994cea9daa",
              "IPY_MODEL_a34bc2eb9f1342d38ba52fd84984d534",
              "IPY_MODEL_88b169d33923402786bcad39bd1d3c60"
            ],
            "layout": "IPY_MODEL_0b1049dfb44b487195b8a2744dab7433"
          }
        },
        "393ff204abf44c969f3724994cea9daa": {
          "model_module": "@jupyter-widgets/controls",
          "model_name": "HTMLModel",
          "model_module_version": "1.5.0",
          "state": {
            "_dom_classes": [],
            "_model_module": "@jupyter-widgets/controls",
            "_model_module_version": "1.5.0",
            "_model_name": "HTMLModel",
            "_view_count": null,
            "_view_module": "@jupyter-widgets/controls",
            "_view_module_version": "1.5.0",
            "_view_name": "HTMLView",
            "description": "",
            "description_tooltip": null,
            "layout": "IPY_MODEL_9763830a552541edaf5ba249ba712a18",
            "placeholder": "​",
            "style": "IPY_MODEL_c149cc1e342e4e8dac7830cd18b85c16",
            "value": "config.json: 100%"
          }
        },
        "a34bc2eb9f1342d38ba52fd84984d534": {
          "model_module": "@jupyter-widgets/controls",
          "model_name": "FloatProgressModel",
          "model_module_version": "1.5.0",
          "state": {
            "_dom_classes": [],
            "_model_module": "@jupyter-widgets/controls",
            "_model_module_version": "1.5.0",
            "_model_name": "FloatProgressModel",
            "_view_count": null,
            "_view_module": "@jupyter-widgets/controls",
            "_view_module_version": "1.5.0",
            "_view_name": "ProgressView",
            "bar_style": "success",
            "description": "",
            "description_tooltip": null,
            "layout": "IPY_MODEL_8dd4a9fb30ab4ace8967777cdb325581",
            "max": 483,
            "min": 0,
            "orientation": "horizontal",
            "style": "IPY_MODEL_6e7b8922a11a46beac60478d94404f13",
            "value": 483
          }
        },
        "88b169d33923402786bcad39bd1d3c60": {
          "model_module": "@jupyter-widgets/controls",
          "model_name": "HTMLModel",
          "model_module_version": "1.5.0",
          "state": {
            "_dom_classes": [],
            "_model_module": "@jupyter-widgets/controls",
            "_model_module_version": "1.5.0",
            "_model_name": "HTMLModel",
            "_view_count": null,
            "_view_module": "@jupyter-widgets/controls",
            "_view_module_version": "1.5.0",
            "_view_name": "HTMLView",
            "description": "",
            "description_tooltip": null,
            "layout": "IPY_MODEL_63c974e2ae0d47d9949bd3c54a9230e3",
            "placeholder": "​",
            "style": "IPY_MODEL_96f1e3a86b5a452d9e563f2c28824b8a",
            "value": " 483/483 [00:00&lt;00:00, 34.0kB/s]"
          }
        },
        "0b1049dfb44b487195b8a2744dab7433": {
          "model_module": "@jupyter-widgets/base",
          "model_name": "LayoutModel",
          "model_module_version": "1.2.0",
          "state": {
            "_model_module": "@jupyter-widgets/base",
            "_model_module_version": "1.2.0",
            "_model_name": "LayoutModel",
            "_view_count": null,
            "_view_module": "@jupyter-widgets/base",
            "_view_module_version": "1.2.0",
            "_view_name": "LayoutView",
            "align_content": null,
            "align_items": null,
            "align_self": null,
            "border": null,
            "bottom": null,
            "display": null,
            "flex": null,
            "flex_flow": null,
            "grid_area": null,
            "grid_auto_columns": null,
            "grid_auto_flow": null,
            "grid_auto_rows": null,
            "grid_column": null,
            "grid_gap": null,
            "grid_row": null,
            "grid_template_areas": null,
            "grid_template_columns": null,
            "grid_template_rows": null,
            "height": null,
            "justify_content": null,
            "justify_items": null,
            "left": null,
            "margin": null,
            "max_height": null,
            "max_width": null,
            "min_height": null,
            "min_width": null,
            "object_fit": null,
            "object_position": null,
            "order": null,
            "overflow": null,
            "overflow_x": null,
            "overflow_y": null,
            "padding": null,
            "right": null,
            "top": null,
            "visibility": null,
            "width": null
          }
        },
        "9763830a552541edaf5ba249ba712a18": {
          "model_module": "@jupyter-widgets/base",
          "model_name": "LayoutModel",
          "model_module_version": "1.2.0",
          "state": {
            "_model_module": "@jupyter-widgets/base",
            "_model_module_version": "1.2.0",
            "_model_name": "LayoutModel",
            "_view_count": null,
            "_view_module": "@jupyter-widgets/base",
            "_view_module_version": "1.2.0",
            "_view_name": "LayoutView",
            "align_content": null,
            "align_items": null,
            "align_self": null,
            "border": null,
            "bottom": null,
            "display": null,
            "flex": null,
            "flex_flow": null,
            "grid_area": null,
            "grid_auto_columns": null,
            "grid_auto_flow": null,
            "grid_auto_rows": null,
            "grid_column": null,
            "grid_gap": null,
            "grid_row": null,
            "grid_template_areas": null,
            "grid_template_columns": null,
            "grid_template_rows": null,
            "height": null,
            "justify_content": null,
            "justify_items": null,
            "left": null,
            "margin": null,
            "max_height": null,
            "max_width": null,
            "min_height": null,
            "min_width": null,
            "object_fit": null,
            "object_position": null,
            "order": null,
            "overflow": null,
            "overflow_x": null,
            "overflow_y": null,
            "padding": null,
            "right": null,
            "top": null,
            "visibility": null,
            "width": null
          }
        },
        "c149cc1e342e4e8dac7830cd18b85c16": {
          "model_module": "@jupyter-widgets/controls",
          "model_name": "DescriptionStyleModel",
          "model_module_version": "1.5.0",
          "state": {
            "_model_module": "@jupyter-widgets/controls",
            "_model_module_version": "1.5.0",
            "_model_name": "DescriptionStyleModel",
            "_view_count": null,
            "_view_module": "@jupyter-widgets/base",
            "_view_module_version": "1.2.0",
            "_view_name": "StyleView",
            "description_width": ""
          }
        },
        "8dd4a9fb30ab4ace8967777cdb325581": {
          "model_module": "@jupyter-widgets/base",
          "model_name": "LayoutModel",
          "model_module_version": "1.2.0",
          "state": {
            "_model_module": "@jupyter-widgets/base",
            "_model_module_version": "1.2.0",
            "_model_name": "LayoutModel",
            "_view_count": null,
            "_view_module": "@jupyter-widgets/base",
            "_view_module_version": "1.2.0",
            "_view_name": "LayoutView",
            "align_content": null,
            "align_items": null,
            "align_self": null,
            "border": null,
            "bottom": null,
            "display": null,
            "flex": null,
            "flex_flow": null,
            "grid_area": null,
            "grid_auto_columns": null,
            "grid_auto_flow": null,
            "grid_auto_rows": null,
            "grid_column": null,
            "grid_gap": null,
            "grid_row": null,
            "grid_template_areas": null,
            "grid_template_columns": null,
            "grid_template_rows": null,
            "height": null,
            "justify_content": null,
            "justify_items": null,
            "left": null,
            "margin": null,
            "max_height": null,
            "max_width": null,
            "min_height": null,
            "min_width": null,
            "object_fit": null,
            "object_position": null,
            "order": null,
            "overflow": null,
            "overflow_x": null,
            "overflow_y": null,
            "padding": null,
            "right": null,
            "top": null,
            "visibility": null,
            "width": null
          }
        },
        "6e7b8922a11a46beac60478d94404f13": {
          "model_module": "@jupyter-widgets/controls",
          "model_name": "ProgressStyleModel",
          "model_module_version": "1.5.0",
          "state": {
            "_model_module": "@jupyter-widgets/controls",
            "_model_module_version": "1.5.0",
            "_model_name": "ProgressStyleModel",
            "_view_count": null,
            "_view_module": "@jupyter-widgets/base",
            "_view_module_version": "1.2.0",
            "_view_name": "StyleView",
            "bar_color": null,
            "description_width": ""
          }
        },
        "63c974e2ae0d47d9949bd3c54a9230e3": {
          "model_module": "@jupyter-widgets/base",
          "model_name": "LayoutModel",
          "model_module_version": "1.2.0",
          "state": {
            "_model_module": "@jupyter-widgets/base",
            "_model_module_version": "1.2.0",
            "_model_name": "LayoutModel",
            "_view_count": null,
            "_view_module": "@jupyter-widgets/base",
            "_view_module_version": "1.2.0",
            "_view_name": "LayoutView",
            "align_content": null,
            "align_items": null,
            "align_self": null,
            "border": null,
            "bottom": null,
            "display": null,
            "flex": null,
            "flex_flow": null,
            "grid_area": null,
            "grid_auto_columns": null,
            "grid_auto_flow": null,
            "grid_auto_rows": null,
            "grid_column": null,
            "grid_gap": null,
            "grid_row": null,
            "grid_template_areas": null,
            "grid_template_columns": null,
            "grid_template_rows": null,
            "height": null,
            "justify_content": null,
            "justify_items": null,
            "left": null,
            "margin": null,
            "max_height": null,
            "max_width": null,
            "min_height": null,
            "min_width": null,
            "object_fit": null,
            "object_position": null,
            "order": null,
            "overflow": null,
            "overflow_x": null,
            "overflow_y": null,
            "padding": null,
            "right": null,
            "top": null,
            "visibility": null,
            "width": null
          }
        },
        "96f1e3a86b5a452d9e563f2c28824b8a": {
          "model_module": "@jupyter-widgets/controls",
          "model_name": "DescriptionStyleModel",
          "model_module_version": "1.5.0",
          "state": {
            "_model_module": "@jupyter-widgets/controls",
            "_model_module_version": "1.5.0",
            "_model_name": "DescriptionStyleModel",
            "_view_count": null,
            "_view_module": "@jupyter-widgets/base",
            "_view_module_version": "1.2.0",
            "_view_name": "StyleView",
            "description_width": ""
          }
        },
        "84436165b40140be8d153aef336f8810": {
          "model_module": "@jupyter-widgets/controls",
          "model_name": "HBoxModel",
          "model_module_version": "1.5.0",
          "state": {
            "_dom_classes": [],
            "_model_module": "@jupyter-widgets/controls",
            "_model_module_version": "1.5.0",
            "_model_name": "HBoxModel",
            "_view_count": null,
            "_view_module": "@jupyter-widgets/controls",
            "_view_module_version": "1.5.0",
            "_view_name": "HBoxView",
            "box_style": "",
            "children": [
              "IPY_MODEL_aa0ca7ced4614e97be253d1e30eea075",
              "IPY_MODEL_183f1740da914e5891097ba488448281",
              "IPY_MODEL_ec4bad11106e4c2da4a400d6229be6d6"
            ],
            "layout": "IPY_MODEL_0353804465f444b9b4ceac11055a1977"
          }
        },
        "aa0ca7ced4614e97be253d1e30eea075": {
          "model_module": "@jupyter-widgets/controls",
          "model_name": "HTMLModel",
          "model_module_version": "1.5.0",
          "state": {
            "_dom_classes": [],
            "_model_module": "@jupyter-widgets/controls",
            "_model_module_version": "1.5.0",
            "_model_name": "HTMLModel",
            "_view_count": null,
            "_view_module": "@jupyter-widgets/controls",
            "_view_module_version": "1.5.0",
            "_view_name": "HTMLView",
            "description": "",
            "description_tooltip": null,
            "layout": "IPY_MODEL_e1546b1c18144a68bcf495a02fefac24",
            "placeholder": "​",
            "style": "IPY_MODEL_408e0bb60023499ca3bab5b1ae7312af",
            "value": "model.safetensors: 100%"
          }
        },
        "183f1740da914e5891097ba488448281": {
          "model_module": "@jupyter-widgets/controls",
          "model_name": "FloatProgressModel",
          "model_module_version": "1.5.0",
          "state": {
            "_dom_classes": [],
            "_model_module": "@jupyter-widgets/controls",
            "_model_module_version": "1.5.0",
            "_model_name": "FloatProgressModel",
            "_view_count": null,
            "_view_module": "@jupyter-widgets/controls",
            "_view_module_version": "1.5.0",
            "_view_name": "ProgressView",
            "bar_style": "success",
            "description": "",
            "description_tooltip": null,
            "layout": "IPY_MODEL_b60c605416d04757b68c4955dee2ba26",
            "max": 267954768,
            "min": 0,
            "orientation": "horizontal",
            "style": "IPY_MODEL_ca9931370d6a4fab9660dabb1e7278dd",
            "value": 267954768
          }
        },
        "ec4bad11106e4c2da4a400d6229be6d6": {
          "model_module": "@jupyter-widgets/controls",
          "model_name": "HTMLModel",
          "model_module_version": "1.5.0",
          "state": {
            "_dom_classes": [],
            "_model_module": "@jupyter-widgets/controls",
            "_model_module_version": "1.5.0",
            "_model_name": "HTMLModel",
            "_view_count": null,
            "_view_module": "@jupyter-widgets/controls",
            "_view_module_version": "1.5.0",
            "_view_name": "HTMLView",
            "description": "",
            "description_tooltip": null,
            "layout": "IPY_MODEL_9a90911b70ef4ad197ff1e3451470060",
            "placeholder": "​",
            "style": "IPY_MODEL_3cdc41b2db974ec99223b4ffa0bfa8e6",
            "value": " 268M/268M [00:01&lt;00:00, 253MB/s]"
          }
        },
        "0353804465f444b9b4ceac11055a1977": {
          "model_module": "@jupyter-widgets/base",
          "model_name": "LayoutModel",
          "model_module_version": "1.2.0",
          "state": {
            "_model_module": "@jupyter-widgets/base",
            "_model_module_version": "1.2.0",
            "_model_name": "LayoutModel",
            "_view_count": null,
            "_view_module": "@jupyter-widgets/base",
            "_view_module_version": "1.2.0",
            "_view_name": "LayoutView",
            "align_content": null,
            "align_items": null,
            "align_self": null,
            "border": null,
            "bottom": null,
            "display": null,
            "flex": null,
            "flex_flow": null,
            "grid_area": null,
            "grid_auto_columns": null,
            "grid_auto_flow": null,
            "grid_auto_rows": null,
            "grid_column": null,
            "grid_gap": null,
            "grid_row": null,
            "grid_template_areas": null,
            "grid_template_columns": null,
            "grid_template_rows": null,
            "height": null,
            "justify_content": null,
            "justify_items": null,
            "left": null,
            "margin": null,
            "max_height": null,
            "max_width": null,
            "min_height": null,
            "min_width": null,
            "object_fit": null,
            "object_position": null,
            "order": null,
            "overflow": null,
            "overflow_x": null,
            "overflow_y": null,
            "padding": null,
            "right": null,
            "top": null,
            "visibility": null,
            "width": null
          }
        },
        "e1546b1c18144a68bcf495a02fefac24": {
          "model_module": "@jupyter-widgets/base",
          "model_name": "LayoutModel",
          "model_module_version": "1.2.0",
          "state": {
            "_model_module": "@jupyter-widgets/base",
            "_model_module_version": "1.2.0",
            "_model_name": "LayoutModel",
            "_view_count": null,
            "_view_module": "@jupyter-widgets/base",
            "_view_module_version": "1.2.0",
            "_view_name": "LayoutView",
            "align_content": null,
            "align_items": null,
            "align_self": null,
            "border": null,
            "bottom": null,
            "display": null,
            "flex": null,
            "flex_flow": null,
            "grid_area": null,
            "grid_auto_columns": null,
            "grid_auto_flow": null,
            "grid_auto_rows": null,
            "grid_column": null,
            "grid_gap": null,
            "grid_row": null,
            "grid_template_areas": null,
            "grid_template_columns": null,
            "grid_template_rows": null,
            "height": null,
            "justify_content": null,
            "justify_items": null,
            "left": null,
            "margin": null,
            "max_height": null,
            "max_width": null,
            "min_height": null,
            "min_width": null,
            "object_fit": null,
            "object_position": null,
            "order": null,
            "overflow": null,
            "overflow_x": null,
            "overflow_y": null,
            "padding": null,
            "right": null,
            "top": null,
            "visibility": null,
            "width": null
          }
        },
        "408e0bb60023499ca3bab5b1ae7312af": {
          "model_module": "@jupyter-widgets/controls",
          "model_name": "DescriptionStyleModel",
          "model_module_version": "1.5.0",
          "state": {
            "_model_module": "@jupyter-widgets/controls",
            "_model_module_version": "1.5.0",
            "_model_name": "DescriptionStyleModel",
            "_view_count": null,
            "_view_module": "@jupyter-widgets/base",
            "_view_module_version": "1.2.0",
            "_view_name": "StyleView",
            "description_width": ""
          }
        },
        "b60c605416d04757b68c4955dee2ba26": {
          "model_module": "@jupyter-widgets/base",
          "model_name": "LayoutModel",
          "model_module_version": "1.2.0",
          "state": {
            "_model_module": "@jupyter-widgets/base",
            "_model_module_version": "1.2.0",
            "_model_name": "LayoutModel",
            "_view_count": null,
            "_view_module": "@jupyter-widgets/base",
            "_view_module_version": "1.2.0",
            "_view_name": "LayoutView",
            "align_content": null,
            "align_items": null,
            "align_self": null,
            "border": null,
            "bottom": null,
            "display": null,
            "flex": null,
            "flex_flow": null,
            "grid_area": null,
            "grid_auto_columns": null,
            "grid_auto_flow": null,
            "grid_auto_rows": null,
            "grid_column": null,
            "grid_gap": null,
            "grid_row": null,
            "grid_template_areas": null,
            "grid_template_columns": null,
            "grid_template_rows": null,
            "height": null,
            "justify_content": null,
            "justify_items": null,
            "left": null,
            "margin": null,
            "max_height": null,
            "max_width": null,
            "min_height": null,
            "min_width": null,
            "object_fit": null,
            "object_position": null,
            "order": null,
            "overflow": null,
            "overflow_x": null,
            "overflow_y": null,
            "padding": null,
            "right": null,
            "top": null,
            "visibility": null,
            "width": null
          }
        },
        "ca9931370d6a4fab9660dabb1e7278dd": {
          "model_module": "@jupyter-widgets/controls",
          "model_name": "ProgressStyleModel",
          "model_module_version": "1.5.0",
          "state": {
            "_model_module": "@jupyter-widgets/controls",
            "_model_module_version": "1.5.0",
            "_model_name": "ProgressStyleModel",
            "_view_count": null,
            "_view_module": "@jupyter-widgets/base",
            "_view_module_version": "1.2.0",
            "_view_name": "StyleView",
            "bar_color": null,
            "description_width": ""
          }
        },
        "9a90911b70ef4ad197ff1e3451470060": {
          "model_module": "@jupyter-widgets/base",
          "model_name": "LayoutModel",
          "model_module_version": "1.2.0",
          "state": {
            "_model_module": "@jupyter-widgets/base",
            "_model_module_version": "1.2.0",
            "_model_name": "LayoutModel",
            "_view_count": null,
            "_view_module": "@jupyter-widgets/base",
            "_view_module_version": "1.2.0",
            "_view_name": "LayoutView",
            "align_content": null,
            "align_items": null,
            "align_self": null,
            "border": null,
            "bottom": null,
            "display": null,
            "flex": null,
            "flex_flow": null,
            "grid_area": null,
            "grid_auto_columns": null,
            "grid_auto_flow": null,
            "grid_auto_rows": null,
            "grid_column": null,
            "grid_gap": null,
            "grid_row": null,
            "grid_template_areas": null,
            "grid_template_columns": null,
            "grid_template_rows": null,
            "height": null,
            "justify_content": null,
            "justify_items": null,
            "left": null,
            "margin": null,
            "max_height": null,
            "max_width": null,
            "min_height": null,
            "min_width": null,
            "object_fit": null,
            "object_position": null,
            "order": null,
            "overflow": null,
            "overflow_x": null,
            "overflow_y": null,
            "padding": null,
            "right": null,
            "top": null,
            "visibility": null,
            "width": null
          }
        },
        "3cdc41b2db974ec99223b4ffa0bfa8e6": {
          "model_module": "@jupyter-widgets/controls",
          "model_name": "DescriptionStyleModel",
          "model_module_version": "1.5.0",
          "state": {
            "_model_module": "@jupyter-widgets/controls",
            "_model_module_version": "1.5.0",
            "_model_name": "DescriptionStyleModel",
            "_view_count": null,
            "_view_module": "@jupyter-widgets/base",
            "_view_module_version": "1.2.0",
            "_view_name": "StyleView",
            "description_width": ""
          }
        }
      }
    }
  },
  "nbformat": 4,
  "nbformat_minor": 0
}