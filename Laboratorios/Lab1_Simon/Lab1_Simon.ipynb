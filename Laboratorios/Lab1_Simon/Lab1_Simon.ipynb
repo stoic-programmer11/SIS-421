{
  "nbformat": 4,
  "nbformat_minor": 0,
  "metadata": {
    "colab": {
      "provenance": [],
      "gpuType": "T4"
    },
    "kernelspec": {
      "name": "python3",
      "display_name": "Python 3"
    },
    "language_info": {
      "name": "python"
    },
    "accelerator": "GPU"
  },
  "cells": [
    {
      "cell_type": "code",
      "execution_count": 9,
      "metadata": {
        "colab": {
          "base_uri": "https://localhost:8080/",
          "height": 643
        },
        "id": "KUDKx4V_-Sxv",
        "outputId": "37aaf54b-3b55-41cb-b03e-9fe9cd5f2233"
      },
      "outputs": [
        {
          "output_type": "stream",
          "name": "stdout",
          "text": [
            "Época [1/10], Pérdida: 0.8020\n",
            "Época [2/10], Pérdida: 0.6257\n",
            "Época [3/10], Pérdida: 0.5326\n",
            "Época [4/10], Pérdida: 0.4563\n",
            "Época [5/10], Pérdida: 0.4091\n",
            "Época [6/10], Pérdida: 0.3542\n",
            "Época [7/10], Pérdida: 0.3173\n",
            "Época [8/10], Pérdida: 0.2820\n",
            "Época [9/10], Pérdida: 0.2548\n",
            "Época [10/10], Pérdida: 0.2252\n",
            "Exactitud en la Prueba: 0.9425\n"
          ]
        },
        {
          "output_type": "display_data",
          "data": {
            "text/plain": [
              "<Figure size 640x480 with 1 Axes>"
            ],
            "image/png": "[encoded data removed]"
          },
          "metadata": {}
        }
      ],
      "source": [
        "import pandas as pd\n",
        "import numpy as np\n",
        "from sklearn.model_selection import train_test_split\n",
        "import torch\n",
        "import torch.nn as nn\n",
        "import torch.optim as optim\n",
        "import matplotlib.pyplot as plt\n",
        "\n",
        "# Cargar el conjunto de datos EMNIST desde el archivo CSV\n",
        "emnist_data = pd.read_csv('/content/sample_data/mnist_test.csv', header=None)\n",
        "emnist_data = emnist_data.values\n",
        "\n",
        "# Separar características y etiquetas\n",
        "X = emnist_data[:, 1:] / 255.0  # Normalizar los valores de píxeles a [0, 1]\n",
        "y = emnist_data[:, 0]\n",
        "\n",
        "# Dividir el conjunto de datos en conjuntos de entrenamiento y prueba\n",
        "X_entrenamiento, X_prueba, y_entrenamiento, y_prueba = train_test_split(X, y, test_size=0.2, random_state=42)\n",
        "\n",
        "# Convertir los datos a tensores de PyTorch\n",
        "X_entrenamiento_tensor = torch.tensor(X_entrenamiento, dtype=torch.float32)\n",
        "y_entrenamiento_tensor = torch.tensor(y_entrenamiento, dtype=torch.long)\n",
        "X_prueba_tensor = torch.tensor(X_prueba, dtype=torch.float32)\n",
        "y_prueba_tensor = torch.tensor(y_prueba, dtype=torch.long)\n",
        "\n",
        "# Definir el modelo de la red neuronal con 2 capas ocultas\n",
        "class RedNeuronal(nn.Module):\n",
        "    def __init__(self):\n",
        "        super(RedNeuronal, self).__init__()\n",
        "        self.fc1 = nn.Linear(784, 128)\n",
        "        self.fc2 = nn.Linear(128, 64)\n",
        "        self.fc3 = nn.Linear(64, 32)  # Nueva capa oculta\n",
        "        self.fc4 = nn.Linear(32, 47)  # 47 clases en EMNIST\n",
        "\n",
        "    def forward(self, x):\n",
        "        x = x.view(-1, 784)\n",
        "        x = torch.relu(self.fc1(x))\n",
        "        x = torch.relu(self.fc2(x))\n",
        "        x = torch.relu(self.fc3(x))  # Pasar por la nueva capa oculta\n",
        "        x = self.fc4(x)\n",
        "        return x\n",
        "\n",
        "# Crear una instancia del modelo\n",
        "modelo = RedNeuronal()\n",
        "\n",
        "# Definir función de pérdida y optimizador\n",
        "criterio = nn.CrossEntropyLoss()\n",
        "optimizador = optim.Adam(modelo.parameters(), lr=0.001)\n",
        "\n",
        "# Ciclo de entrenamiento\n",
        "num_epocas = 10\n",
        "tamaño_lote = 64\n",
        "for epoca in range(num_epocas):\n",
        "    for i in range(0, len(X_entrenamiento_tensor), tamaño_lote):\n",
        "        lote_X = X_entrenamiento_tensor[i:i+tamaño_lote]\n",
        "        lote_y = y_entrenamiento_tensor[i:i+tamaño_lote]\n",
        "\n",
        "        optimizador.zero_grad()\n",
        "        salidas = modelo(lote_X)\n",
        "        pérdida = criterio(salidas, lote_y)\n",
        "        pérdida.backward()\n",
        "        optimizador.step()\n",
        "\n",
        "    print(f'Época [{epoca+1}/{num_epocas}], Pérdida: {pérdida.item():.4f}')\n",
        "\n",
        "# Evaluar el modelo\n",
        "modelo.eval()\n",
        "with torch.no_grad():\n",
        "    salidas = modelo(X_prueba_tensor)\n",
        "    _, predichos = torch.max(salidas, 1)\n",
        "    exactitud = torch.sum(predichos == y_prueba_tensor).item() / len(y_prueba_tensor)\n",
        "    print(f'Exactitud en la Prueba: {exactitud:.4f}')\n",
        "\n",
        "    # Visualizar resultados\n",
        "    muestra_idx = np.random.randint(len(X_prueba_tensor))\n",
        "    muestra_img = X_prueba_tensor[muestra_idx].view(28, 28)\n",
        "    etiqueta_verdad = y_prueba_tensor[muestra_idx].item()\n",
        "    etiqueta_predicha = predichos[muestra_idx].item()\n",
        "\n",
        "    plt.imshow(muestra_img, cmap='gray')\n",
        "    plt.title(f'Etiqueta Verdadera: {etiqueta_verdad}, Etiqueta Predicha: {etiqueta_predicha}')\n",
        "    plt.show()\n"
      ]
    }
  ]
}