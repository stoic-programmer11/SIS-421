{
  "nbformat": 4,
  "nbformat_minor": 0,
  "metadata": {
    "colab": {
      "provenance": [],
      "gpuType": "T4"
    },
    "kernelspec": {
      "name": "python3",
      "display_name": "Python 3"
    },
    "language_info": {
      "name": "python"
    },
    "accelerator": "GPU"
  },
  "cells": [
    {
      "cell_type": "code",
      "source": [
        "\n",
        "from google.colab import drive\n",
        "drive.mount('/content/drive')"
      ],
      "metadata": {
        "colab": {
          "base_uri": "https://localhost:8080/"
        },
        "id": "Y-QxmJJZZqaJ",
        "outputId": "95655144-3377-4fbe-aaa1-81dfdd595a7a"
      },
      "execution_count": 1,
      "outputs": [
        {
          "output_type": "stream",
          "name": "stdout",
          "text": [
            "Mounted at /content/drive\n"
          ]
        }
      ]
    },
    {
      "cell_type": "code",
      "source": [
        "import torch\n",
        "import torchvision\n",
        "\n",
        "device = \"cuda\" if torch.cuda.is_available() else \"cpu\""
      ],
      "metadata": {
        "id": "uTTRxtmjYkSe"
      },
      "execution_count": 2,
      "outputs": []
    },
    {
      "cell_type": "code",
      "source": [
        "# import os\n",
        "# from py7zr import SevenZipFile\n",
        "\n",
        "# # Ruta del archivo .7z en Google Drive\n",
        "# archivo_7z_path = './drive/MyDrive/SIS421/Primer_Parcial/FastFood80x80.7z'\n",
        "\n",
        "# # Directorio de extracción\n",
        "# directorio_extraccion = './drive/MyDrive/SIS421/Primer_Parcial/'\n",
        "\n",
        "# # Extraer el archivo .7z\n",
        "# with SevenZipFile(archivo_7z_path, 'r') as archive:\n",
        "#     archive.extractall(path=directorio_extraccion)\n",
        "\n",
        "# # Listar los archivos extraídos\n",
        "# archivos_extraidos = os.listdir(directorio_extraccion)\n",
        "# print(\"Archivos extraídos:\", archivos_extraidos)"
      ],
      "metadata": {
        "id": "kd6TCiw-ZiMo"
      },
      "execution_count": 3,
      "outputs": []
    },
    {
      "cell_type": "code",
      "source": [
        "import torch\n",
        "import torch.nn as nn\n",
        "import torch.optim as optim\n",
        "import torch.nn.functional as F\n",
        "import torchvision.models as models\n",
        "from tqdm import tqdm\n",
        "import numpy as np\n",
        "import torchvision.transforms as transforms\n",
        "from torchvision.datasets import ImageFolder\n",
        "from torch.utils.data import DataLoader\n"
      ],
      "metadata": {
        "id": "He75XgimSfuI"
      },
      "execution_count": 4,
      "outputs": []
    },
    {
      "cell_type": "code",
      "source": [
        "import torchvision.transforms as transforms\n",
        "from torchvision.datasets import ImageFolder\n",
        "from torch.utils.data import DataLoader\n",
        "\n",
        "# Ruta del directorio raíz\n",
        "root = \"./drive/MyDrive/SIS421/Primer_Parcial/FastFood80x80\"\n",
        "\n",
        "# Transformaciones para las imágenes\n",
        "transform = transforms.Compose([\n",
        "    transforms.Resize((80, 80)),  # Ajusta el tamaño a 80x80\n",
        "    transforms.ToTensor(),         # Convierte a tensor\n",
        "])\n",
        "\n",
        "# Rutas para los conjuntos de datos\n",
        "train_dir = root + \"/Train\"\n",
        "test_dir = root + \"/Test\"\n",
        "valid_dir = root + \"/Valid\"\n",
        "\n",
        "# Crear conjuntos de datos\n",
        "trainset = ImageFolder(root=train_dir, transform=transform)\n",
        "testset = ImageFolder(root=test_dir, transform=transform)\n",
        "validset = ImageFolder(root=valid_dir, transform=transform)\n",
        "\n",
        "# Crear dataloaders\n",
        "batch_size = 64\n",
        "train_loader = DataLoader(trainset, batch_size=batch_size, shuffle=True)\n",
        "test_loader = DataLoader(testset, batch_size=batch_size, shuffle=False)\n",
        "valid_loader = DataLoader(validset, batch_size=batch_size, shuffle=False)\n",
        "\n",
        "# Clases\n",
        "classes = trainset.classes\n",
        "\n",
        "# Verificar el número de clases y muestras en cada conjunto\n",
        "num_classes = len(classes)\n",
        "num_train_samples = len(trainset)\n",
        "num_test_samples = len(testset)\n",
        "num_valid_samples = len(validset)\n",
        "\n",
        "print(\"Número de clases:\", num_classes)\n",
        "print(\"Número de muestras de entrenamiento:\", num_train_samples)\n",
        "print(\"Número de muestras de prueba:\", num_test_samples)\n",
        "print(\"Número de muestras de validación:\", num_valid_samples)"
      ],
      "metadata": {
        "colab": {
          "base_uri": "https://localhost:8080/"
        },
        "id": "n18WMB-QSig4",
        "outputId": "5d366e5f-9a7f-40b9-d80b-71329468b571"
      },
      "execution_count": 5,
      "outputs": [
        {
          "output_type": "stream",
          "name": "stdout",
          "text": [
            "Número de clases: 10\n",
            "Número de muestras de entrenamiento: 15000\n",
            "Número de muestras de prueba: 1500\n",
            "Número de muestras de validación: 3500\n"
          ]
        }
      ]
    },
    {
      "cell_type": "code",
      "source": [
        "\n",
        "# Definición del modelo usando un modelo preentrenado (ResNet18)\n",
        "class CustomCNN(nn.Module):\n",
        "    def __init__(self, num_classes):\n",
        "        super(CustomCNN, self).__init__()\n",
        "        # Cargar el modelo preentrenado\n",
        "        self.resnet = models.resnet18(pretrained=True)\n",
        "\n",
        "        # Modificar la última capa para adaptarse a la nueva tarea\n",
        "        in_features = self.resnet.fc.in_features\n",
        "        self.resnet.fc = nn.Linear(in_features, num_classes)\n",
        "\n",
        "    def forward(self, x):\n",
        "        return self.resnet(x)\n",
        "\n",
        "# Crear la instancia del modelo\n",
        "model = CustomCNN(num_classes)\n",
        "\n",
        "# Mover el modelo al dispositivo (CPU o GPU)\n",
        "device = \"cuda\" if torch.cuda.is_available() else \"cpu\"\n",
        "model.to(device)\n",
        "\n",
        "# Definir una función de pérdida y un optimizador\n",
        "criterion = nn.CrossEntropyLoss()\n",
        "optimizer = torch.optim.Adam(model.parameters(), lr=0.001)\n"
      ],
      "metadata": {
        "colab": {
          "base_uri": "https://localhost:8080/"
        },
        "id": "gp-7adn2qGEv",
        "outputId": "146aa4dc-d771-4180-dbea-9ab3671bb2d2"
      },
      "execution_count": 9,
      "outputs": [
        {
          "output_type": "stream",
          "name": "stderr",
          "text": [
            "/usr/local/lib/python3.10/dist-packages/torchvision/models/_utils.py:208: UserWarning: The parameter 'pretrained' is deprecated since 0.13 and may be removed in the future, please use 'weights' instead.\n",
            "  warnings.warn(\n",
            "/usr/local/lib/python3.10/dist-packages/torchvision/models/_utils.py:223: UserWarning: Arguments other than a weight enum or `None` for 'weights' are deprecated since 0.13 and may be removed in the future. The current behavior is equivalent to passing `weights=ResNet18_Weights.IMAGENET1K_V1`. You can also use `weights=ResNet18_Weights.DEFAULT` to get the most up-to-date weights.\n",
            "  warnings.warn(msg)\n",
            "Downloading: \"https://download.pytorch.org/models/resnet18-f37072fd.pth\" to /root/.cache/torch/hub/checkpoints/resnet18-f37072fd.pth\n",
            "100%|██████████| 44.7M/44.7M [00:00<00:00, 135MB/s]\n"
          ]
        }
      ]
    },
    {
      "cell_type": "code",
      "source": [
        "# Definición del modelo con 4 capas convolucionales y capas de pooling\n",
        "class CustomCNN(nn.Module):\n",
        "    def __init__(self, num_classes):\n",
        "        super(CustomCNN, self).__init__()\n",
        "        self.conv1 = nn.Conv2d(3, 16, kernel_size=5, stride=1, padding=2)\n",
        "        self.pool1 = nn.MaxPool2d(kernel_size=2, stride=2)\n",
        "        self.conv2 = nn.Conv2d(16, 32, kernel_size=5, stride=1, padding=2)\n",
        "        self.pool2 = nn.MaxPool2d(kernel_size=2, stride=2)\n",
        "        self.conv3 = nn.Conv2d(32, 64, kernel_size=5, stride=1, padding=2)\n",
        "        self.pool3 = nn.MaxPool2d(kernel_size=2, stride=2)\n",
        "        self.conv4 = nn.Conv2d(64, 128, kernel_size=5, stride=1, padding=2)\n",
        "        self.pool4 = nn.MaxPool2d(kernel_size=2, stride=2)\n",
        "        self.fc1 = nn.Linear(128 * 5 * 5, 256)  # Adjust the input size based on the architecture\n",
        "        self.fc2 = nn.Linear(256, num_classes)\n",
        "\n",
        "    def forward(self, x):\n",
        "        x = self.pool1(F.relu(self.conv1(x)))\n",
        "        x = self.pool2(F.relu(self.conv2(x)))\n",
        "        x = self.pool3(F.relu(self.conv3(x)))\n",
        "        x = self.pool4(F.relu(self.conv4(x)))\n",
        "        x = x.view(-1, 128 * 5 * 5)  # Flatten the tensor\n",
        "        x = F.relu(self.fc1(x))\n",
        "        x = self.fc2(x)\n",
        "        return x\n",
        "\n",
        "# Crear la instancia del modelo\n",
        "model = CustomCNN(num_classes)\n",
        "\n",
        "# Mover el modelo al dispositivo (CPU o GPU)\n",
        "device = \"cuda\" if torch.cuda.is_available() else \"cpu\"\n",
        "model.to(device)\n",
        "\n",
        "# Definir una función de pérdida y un optimizador\n",
        "criterion = nn.CrossEntropyLoss()\n",
        "optimizer = torch.optim.Adam(model.parameters(), lr=0.001)\n"
      ],
      "metadata": {
        "id": "wp_dCQDISuxe"
      },
      "execution_count": 7,
      "outputs": []
    },
    {
      "cell_type": "code",
      "source": [
        "# Función para entrenar\n",
        "def train(model, train_loader, valid_loader, optimizer, criterion, num_epochs=5, start_epoch=0):\n",
        "    for epoch in range(start_epoch, num_epochs):\n",
        "        model.train()\n",
        "        train_loss, train_acc = [], []\n",
        "        for images, labels in tqdm(train_loader):\n",
        "            images, labels = images.to(device), labels.to(device)\n",
        "            optimizer.zero_grad()\n",
        "            outputs = model(images)\n",
        "            loss = criterion(outputs, labels)\n",
        "            loss.backward()\n",
        "            optimizer.step()\n",
        "            train_loss.append(loss.item())\n",
        "            acc = (outputs.argmax(dim=1) == labels).float().mean().item()\n",
        "            train_acc.append(acc)\n",
        "\n",
        "        model.eval()\n",
        "        val_loss, val_acc = [], []\n",
        "        with torch.no_grad():\n",
        "            for images, labels in valid_loader:\n",
        "                images, labels = images.to(device), labels.to(device)\n",
        "                outputs = model(images)\n",
        "                loss = criterion(outputs, labels)\n",
        "                val_loss.append(loss.item())\n",
        "                acc = (outputs.argmax(dim=1) == labels).float().mean().item()\n",
        "                val_acc.append(acc)\n",
        "\n",
        "        print(f\"Epoch {epoch+1}/{num_epochs}, Train Loss: {np.mean(train_loss):.5f}, Train Acc: {np.mean(train_acc):.5f}, \"\n",
        "              f\"Val Loss: {np.mean(val_loss):.5f}, Val Acc: {np.mean(val_acc):.5f}\")\n",
        "\n",
        "        torch.save({\n",
        "            'epoch': epoch,\n",
        "            'model_state_dict': model.state_dict(),\n",
        "            'optimizer_state_dict': optimizer.state_dict(),\n",
        "            'train_loss': train_loss,\n",
        "            'train_acc': train_acc,\n",
        "            'val_loss': val_loss,\n",
        "            'val_acc': val_acc\n",
        "        }, f'checkpoint_epoch_{epoch}.pth')\n",
        "\n",
        "\n"
      ],
      "metadata": {
        "id": "KzMl56vpSSQN"
      },
      "execution_count": 10,
      "outputs": []
    },
    {
      "cell_type": "code",
      "source": [
        "# Entrenar el modelo\n",
        "start_epoch = 0  # Epoca inicial\n",
        "# Llama a la función de entrenamiento y pasa start_epoch para continuar desde la época guardada\n",
        "train(model, train_loader, valid_loader, optimizer, criterion, num_epochs=5, start_epoch=start_epoch)"
      ],
      "metadata": {
        "colab": {
          "base_uri": "https://localhost:8080/"
        },
        "id": "5gk-GKrFnnJ5",
        "outputId": "7f2fdb50-74ac-42c6-956d-4d4d55b2537d"
      },
      "execution_count": 12,
      "outputs": [
        {
          "output_type": "stream",
          "name": "stderr",
          "text": [
            "  3%|▎         | 7/235 [02:17<1:13:52, 19.44s/it]/usr/local/lib/python3.10/dist-packages/PIL/Image.py:996: UserWarning: Palette images with Transparency expressed in bytes should be converted to RGBA images\n",
            "  warnings.warn(\n",
            "100%|██████████| 235/235 [1:10:30<00:00, 18.00s/it]\n"
          ]
        },
        {
          "output_type": "stream",
          "name": "stdout",
          "text": [
            "Epoch 1/5, Train Loss: 1.17554, Train Acc: 0.62301, Val Loss: 1.20325, Val Acc: 0.63097\n"
          ]
        },
        {
          "output_type": "stream",
          "name": "stderr",
          "text": [
            "100%|██████████| 235/235 [00:34<00:00,  6.72it/s]\n"
          ]
        },
        {
          "output_type": "stream",
          "name": "stdout",
          "text": [
            "Epoch 2/5, Train Loss: 0.75644, Train Acc: 0.76148, Val Loss: 1.55007, Val Acc: 0.57025\n"
          ]
        },
        {
          "output_type": "stream",
          "name": "stderr",
          "text": [
            "100%|██████████| 235/235 [00:34<00:00,  6.79it/s]\n"
          ]
        },
        {
          "output_type": "stream",
          "name": "stdout",
          "text": [
            "Epoch 3/5, Train Loss: 0.56256, Train Acc: 0.82114, Val Loss: 1.34982, Val Acc: 0.61981\n"
          ]
        },
        {
          "output_type": "stream",
          "name": "stderr",
          "text": [
            "100%|██████████| 235/235 [00:35<00:00,  6.69it/s]\n"
          ]
        },
        {
          "output_type": "stream",
          "name": "stdout",
          "text": [
            "Epoch 4/5, Train Loss: 0.42398, Train Acc: 0.86487, Val Loss: 1.93249, Val Acc: 0.54959\n"
          ]
        },
        {
          "output_type": "stream",
          "name": "stderr",
          "text": [
            "100%|██████████| 235/235 [00:34<00:00,  6.72it/s]\n"
          ]
        },
        {
          "output_type": "stream",
          "name": "stdout",
          "text": [
            "Epoch 5/5, Train Loss: 0.32126, Train Acc: 0.89661, Val Loss: 1.74695, Val Acc: 0.60209\n"
          ]
        }
      ]
    },
    {
      "cell_type": "code",
      "source": [
        "# Cargar el estado del modelo y del optimizador\n",
        "# checkpoint = torch.load('checkpoint.pth')\n",
        "# model.load_state_dict(checkpoint['model_state_dict'])\n",
        "# optimizer.load_state_dict(checkpoint['optimizer_state_dict'])\n",
        "# start_epoch = checkpoint['epoch'] + 1  # Empezar desde la siguiente época\n",
        "# train_loss = checkpoint['train_loss']\n",
        "# train_acc = checkpoint['train_acc']\n",
        "# val_loss = checkpoint['val_loss']\n",
        "# val_acc = checkpoint['val_acc']"
      ],
      "metadata": {
        "id": "MO1itcxfn5nd"
      },
      "execution_count": null,
      "outputs": []
    },
    {
      "cell_type": "code",
      "source": [
        "# Entrenar el modelo inicialmente y guardar el progreso\n",
        "train(model, train_loader, valid_loader, optimizer, criterion, num_epochs=5)\n",
        "\n",
        "# Después, si deseas continuar el entrenamiento desde la época 6\n",
        "start_epoch = 6\n",
        "train(model, train_loader, valid_loader, optimizer, criterion, num_epochs=10, start_epoch=start_epoch)\n"
      ],
      "metadata": {
        "id": "ajRmma1inzZw",
        "colab": {
          "base_uri": "https://localhost:8080/"
        },
        "outputId": "b1b865ec-4e45-401c-c98e-d8fd163db8a9"
      },
      "execution_count": 14,
      "outputs": [
        {
          "output_type": "stream",
          "name": "stderr",
          "text": [
            "100%|██████████| 235/235 [00:34<00:00,  6.72it/s]\n"
          ]
        },
        {
          "output_type": "stream",
          "name": "stdout",
          "text": [
            "Epoch 1/5, Train Loss: 0.23606, Train Acc: 0.92212, Val Loss: 1.26967, Val Acc: 0.70181\n"
          ]
        },
        {
          "output_type": "stream",
          "name": "stderr",
          "text": [
            "100%|██████████| 235/235 [00:35<00:00,  6.60it/s]\n"
          ]
        },
        {
          "output_type": "stream",
          "name": "stdout",
          "text": [
            "Epoch 2/5, Train Loss: 0.15812, Train Acc: 0.94832, Val Loss: 1.37493, Val Acc: 0.69447\n"
          ]
        },
        {
          "output_type": "stream",
          "name": "stderr",
          "text": [
            "100%|██████████| 235/235 [00:35<00:00,  6.66it/s]\n"
          ]
        },
        {
          "output_type": "stream",
          "name": "stdout",
          "text": [
            "Epoch 3/5, Train Loss: 0.17283, Train Acc: 0.94335, Val Loss: 1.47987, Val Acc: 0.67549\n"
          ]
        },
        {
          "output_type": "stream",
          "name": "stderr",
          "text": [
            "100%|██████████| 235/235 [00:34<00:00,  6.72it/s]\n"
          ]
        },
        {
          "output_type": "stream",
          "name": "stdout",
          "text": [
            "Epoch 4/5, Train Loss: 0.11303, Train Acc: 0.96308, Val Loss: 1.48420, Val Acc: 0.65289\n"
          ]
        },
        {
          "output_type": "stream",
          "name": "stderr",
          "text": [
            "100%|██████████| 235/235 [00:35<00:00,  6.64it/s]\n"
          ]
        },
        {
          "output_type": "stream",
          "name": "stdout",
          "text": [
            "Epoch 5/5, Train Loss: 0.12406, Train Acc: 0.95838, Val Loss: 1.44916, Val Acc: 0.68642\n"
          ]
        },
        {
          "output_type": "stream",
          "name": "stderr",
          "text": [
            "100%|██████████| 235/235 [00:35<00:00,  6.71it/s]\n"
          ]
        },
        {
          "output_type": "stream",
          "name": "stdout",
          "text": [
            "Epoch 7/10, Train Loss: 0.09912, Train Acc: 0.96944, Val Loss: 1.44205, Val Acc: 0.69223\n"
          ]
        },
        {
          "output_type": "stream",
          "name": "stderr",
          "text": [
            "100%|██████████| 235/235 [00:34<00:00,  6.71it/s]\n"
          ]
        },
        {
          "output_type": "stream",
          "name": "stdout",
          "text": [
            "Epoch 8/10, Train Loss: 0.09086, Train Acc: 0.97043, Val Loss: 1.57447, Val Acc: 0.66260\n"
          ]
        },
        {
          "output_type": "stream",
          "name": "stderr",
          "text": [
            "100%|██████████| 235/235 [00:34<00:00,  6.84it/s]\n"
          ]
        },
        {
          "output_type": "stream",
          "name": "stdout",
          "text": [
            "Epoch 9/10, Train Loss: 0.08638, Train Acc: 0.97185, Val Loss: 1.53587, Val Acc: 0.69695\n"
          ]
        },
        {
          "output_type": "stream",
          "name": "stderr",
          "text": [
            "100%|██████████| 235/235 [00:34<00:00,  6.75it/s]\n"
          ]
        },
        {
          "output_type": "stream",
          "name": "stdout",
          "text": [
            "Epoch 10/10, Train Loss: 0.10497, Train Acc: 0.96660, Val Loss: 1.62265, Val Acc: 0.66748\n"
          ]
        }
      ]
    },
    {
      "cell_type": "code",
      "source": [
        "import matplotlib.pyplot as plt\n",
        "import random\n",
        "\n",
        "# Obtener una muestra aleatoria del conjunto de prueba\n",
        "random_index = random.randint(0, len(testset) - 1)\n",
        "sample_image, sample_label = testset[random_index]\n",
        "sample_image = sample_image.unsqueeze(0).to(device)  # Agregar dimensión de lote y mover a dispositivo\n",
        "\n",
        "# Obtener la predicción para la muestra\n",
        "model.eval()\n",
        "with torch.no_grad():\n",
        "    output = model(sample_image)\n",
        "\n",
        "# Obtener el porcentaje de confianza\n",
        "probabilities = torch.softmax(output, dim=1)\n",
        "confidence_percentage = torch.max(probabilities) * 100\n",
        "predicted_class = torch.argmax(probabilities).item()\n",
        "predicted_class_name = classes[predicted_class]\n",
        "\n",
        "# Mostrar la imagen y el porcentaje de confianza\n",
        "plt.imshow(sample_image.squeeze().permute(1, 2, 0).cpu().numpy())\n",
        "plt.title(f'Predicted Class: {predicted_class_name}\\nConfidence: {confidence_percentage:.2f}%')\n",
        "plt.axis('off')\n",
        "plt.show()"
      ],
      "metadata": {
        "colab": {
          "base_uri": "https://localhost:8080/",
          "height": 449
        },
        "id": "g6kBUnCDD5We",
        "outputId": "3cc44d1d-63e5-4cc3-db7f-f2fd524551a2"
      },
      "execution_count": 62,
      "outputs": [
        {
          "output_type": "display_data",
          "data": {
            "text/plain": [
              "<Figure size 640x480 with 1 Axes>"
            ],
            "image/png": "[encoded data removed]"
          },
          "metadata": {}
        }
      ]
    }
  ]
}